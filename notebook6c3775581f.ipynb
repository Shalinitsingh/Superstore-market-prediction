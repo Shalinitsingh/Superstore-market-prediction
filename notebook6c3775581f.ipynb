{
 "cells": [
  {
   "cell_type": "markdown",
   "id": "394335d0",
   "metadata": {
    "papermill": {
     "duration": 0.012098,
     "end_time": "2023-02-08T17:18:35.221925",
     "exception": false,
     "start_time": "2023-02-08T17:18:35.209827",
     "status": "completed"
    },
    "tags": []
   },
   "source": [
    "**Importing libraries**"
   ]
  },
  {
   "cell_type": "code",
   "execution_count": 1,
   "id": "cfdccaa6",
   "metadata": {
    "execution": {
     "iopub.execute_input": "2023-02-08T17:18:35.245703Z",
     "iopub.status.busy": "2023-02-08T17:18:35.245083Z",
     "iopub.status.idle": "2023-02-08T17:18:36.221520Z",
     "shell.execute_reply": "2023-02-08T17:18:36.220488Z"
    },
    "papermill": {
     "duration": 0.992143,
     "end_time": "2023-02-08T17:18:36.224870",
     "exception": false,
     "start_time": "2023-02-08T17:18:35.232727",
     "status": "completed"
    },
    "tags": []
   },
   "outputs": [],
   "source": [
    "import pandas as pd #for dataframe\n",
    "import numpy as np #for variety of mathematical operations on arrays\n",
    "import seaborn as sns #for  making statistical graphics\n",
    "import matplotlib.pyplot as plt #for plotting\n",
    "from statistics import median"
   ]
  },
  {
   "cell_type": "markdown",
   "id": "2e404f67",
   "metadata": {
    "papermill": {
     "duration": 0.010288,
     "end_time": "2023-02-08T17:18:36.248152",
     "exception": false,
     "start_time": "2023-02-08T17:18:36.237864",
     "status": "completed"
    },
    "tags": []
   },
   "source": [
    "**Loading Dataset**"
   ]
  },
  {
   "cell_type": "code",
   "execution_count": 2,
   "id": "ba3af05b",
   "metadata": {
    "execution": {
     "iopub.execute_input": "2023-02-08T17:18:36.272253Z",
     "iopub.status.busy": "2023-02-08T17:18:36.271526Z",
     "iopub.status.idle": "2023-02-08T17:18:36.332076Z",
     "shell.execute_reply": "2023-02-08T17:18:36.330736Z"
    },
    "papermill": {
     "duration": 0.075795,
     "end_time": "2023-02-08T17:18:36.334629",
     "exception": false,
     "start_time": "2023-02-08T17:18:36.258834",
     "status": "completed"
    },
    "tags": []
   },
   "outputs": [
    {
     "data": {
      "text/html": [
       "<div>\n",
       "<style scoped>\n",
       "    .dataframe tbody tr th:only-of-type {\n",
       "        vertical-align: middle;\n",
       "    }\n",
       "\n",
       "    .dataframe tbody tr th {\n",
       "        vertical-align: top;\n",
       "    }\n",
       "\n",
       "    .dataframe thead th {\n",
       "        text-align: right;\n",
       "    }\n",
       "</style>\n",
       "<table border=\"1\" class=\"dataframe\">\n",
       "  <thead>\n",
       "    <tr style=\"text-align: right;\">\n",
       "      <th></th>\n",
       "      <th>Id</th>\n",
       "      <th>Year_Birth</th>\n",
       "      <th>Education</th>\n",
       "      <th>Marital_Status</th>\n",
       "      <th>Income</th>\n",
       "      <th>Kidhome</th>\n",
       "      <th>Teenhome</th>\n",
       "      <th>Dt_Customer</th>\n",
       "      <th>Recency</th>\n",
       "      <th>MntWines</th>\n",
       "      <th>...</th>\n",
       "      <th>MntFishProducts</th>\n",
       "      <th>MntSweetProducts</th>\n",
       "      <th>MntGoldProds</th>\n",
       "      <th>NumDealsPurchases</th>\n",
       "      <th>NumWebPurchases</th>\n",
       "      <th>NumCatalogPurchases</th>\n",
       "      <th>NumStorePurchases</th>\n",
       "      <th>NumWebVisitsMonth</th>\n",
       "      <th>Response</th>\n",
       "      <th>Complain</th>\n",
       "    </tr>\n",
       "  </thead>\n",
       "  <tbody>\n",
       "    <tr>\n",
       "      <th>0</th>\n",
       "      <td>1826</td>\n",
       "      <td>1970</td>\n",
       "      <td>Graduation</td>\n",
       "      <td>Divorced</td>\n",
       "      <td>84835.0</td>\n",
       "      <td>0</td>\n",
       "      <td>0</td>\n",
       "      <td>6/16/2014</td>\n",
       "      <td>0</td>\n",
       "      <td>189</td>\n",
       "      <td>...</td>\n",
       "      <td>111</td>\n",
       "      <td>189</td>\n",
       "      <td>218</td>\n",
       "      <td>1</td>\n",
       "      <td>4</td>\n",
       "      <td>4</td>\n",
       "      <td>6</td>\n",
       "      <td>1</td>\n",
       "      <td>1</td>\n",
       "      <td>0</td>\n",
       "    </tr>\n",
       "    <tr>\n",
       "      <th>1</th>\n",
       "      <td>1</td>\n",
       "      <td>1961</td>\n",
       "      <td>Graduation</td>\n",
       "      <td>Single</td>\n",
       "      <td>57091.0</td>\n",
       "      <td>0</td>\n",
       "      <td>0</td>\n",
       "      <td>6/15/2014</td>\n",
       "      <td>0</td>\n",
       "      <td>464</td>\n",
       "      <td>...</td>\n",
       "      <td>7</td>\n",
       "      <td>0</td>\n",
       "      <td>37</td>\n",
       "      <td>1</td>\n",
       "      <td>7</td>\n",
       "      <td>3</td>\n",
       "      <td>7</td>\n",
       "      <td>5</td>\n",
       "      <td>1</td>\n",
       "      <td>0</td>\n",
       "    </tr>\n",
       "    <tr>\n",
       "      <th>2</th>\n",
       "      <td>10476</td>\n",
       "      <td>1958</td>\n",
       "      <td>Graduation</td>\n",
       "      <td>Married</td>\n",
       "      <td>67267.0</td>\n",
       "      <td>0</td>\n",
       "      <td>1</td>\n",
       "      <td>5/13/2014</td>\n",
       "      <td>0</td>\n",
       "      <td>134</td>\n",
       "      <td>...</td>\n",
       "      <td>15</td>\n",
       "      <td>2</td>\n",
       "      <td>30</td>\n",
       "      <td>1</td>\n",
       "      <td>3</td>\n",
       "      <td>2</td>\n",
       "      <td>5</td>\n",
       "      <td>2</td>\n",
       "      <td>0</td>\n",
       "      <td>0</td>\n",
       "    </tr>\n",
       "    <tr>\n",
       "      <th>3</th>\n",
       "      <td>1386</td>\n",
       "      <td>1967</td>\n",
       "      <td>Graduation</td>\n",
       "      <td>Together</td>\n",
       "      <td>32474.0</td>\n",
       "      <td>1</td>\n",
       "      <td>1</td>\n",
       "      <td>11/5/2014</td>\n",
       "      <td>0</td>\n",
       "      <td>10</td>\n",
       "      <td>...</td>\n",
       "      <td>0</td>\n",
       "      <td>0</td>\n",
       "      <td>0</td>\n",
       "      <td>1</td>\n",
       "      <td>1</td>\n",
       "      <td>0</td>\n",
       "      <td>2</td>\n",
       "      <td>7</td>\n",
       "      <td>0</td>\n",
       "      <td>0</td>\n",
       "    </tr>\n",
       "    <tr>\n",
       "      <th>4</th>\n",
       "      <td>5371</td>\n",
       "      <td>1989</td>\n",
       "      <td>Graduation</td>\n",
       "      <td>Single</td>\n",
       "      <td>21474.0</td>\n",
       "      <td>1</td>\n",
       "      <td>0</td>\n",
       "      <td>8/4/2014</td>\n",
       "      <td>0</td>\n",
       "      <td>6</td>\n",
       "      <td>...</td>\n",
       "      <td>11</td>\n",
       "      <td>0</td>\n",
       "      <td>34</td>\n",
       "      <td>2</td>\n",
       "      <td>3</td>\n",
       "      <td>1</td>\n",
       "      <td>2</td>\n",
       "      <td>7</td>\n",
       "      <td>1</td>\n",
       "      <td>0</td>\n",
       "    </tr>\n",
       "    <tr>\n",
       "      <th>...</th>\n",
       "      <td>...</td>\n",
       "      <td>...</td>\n",
       "      <td>...</td>\n",
       "      <td>...</td>\n",
       "      <td>...</td>\n",
       "      <td>...</td>\n",
       "      <td>...</td>\n",
       "      <td>...</td>\n",
       "      <td>...</td>\n",
       "      <td>...</td>\n",
       "      <td>...</td>\n",
       "      <td>...</td>\n",
       "      <td>...</td>\n",
       "      <td>...</td>\n",
       "      <td>...</td>\n",
       "      <td>...</td>\n",
       "      <td>...</td>\n",
       "      <td>...</td>\n",
       "      <td>...</td>\n",
       "      <td>...</td>\n",
       "      <td>...</td>\n",
       "    </tr>\n",
       "    <tr>\n",
       "      <th>2235</th>\n",
       "      <td>10142</td>\n",
       "      <td>1976</td>\n",
       "      <td>PhD</td>\n",
       "      <td>Divorced</td>\n",
       "      <td>66476.0</td>\n",
       "      <td>0</td>\n",
       "      <td>1</td>\n",
       "      <td>7/3/2013</td>\n",
       "      <td>99</td>\n",
       "      <td>372</td>\n",
       "      <td>...</td>\n",
       "      <td>47</td>\n",
       "      <td>48</td>\n",
       "      <td>78</td>\n",
       "      <td>2</td>\n",
       "      <td>5</td>\n",
       "      <td>2</td>\n",
       "      <td>11</td>\n",
       "      <td>4</td>\n",
       "      <td>0</td>\n",
       "      <td>0</td>\n",
       "    </tr>\n",
       "    <tr>\n",
       "      <th>2236</th>\n",
       "      <td>5263</td>\n",
       "      <td>1977</td>\n",
       "      <td>2n Cycle</td>\n",
       "      <td>Married</td>\n",
       "      <td>31056.0</td>\n",
       "      <td>1</td>\n",
       "      <td>0</td>\n",
       "      <td>1/22/2013</td>\n",
       "      <td>99</td>\n",
       "      <td>5</td>\n",
       "      <td>...</td>\n",
       "      <td>3</td>\n",
       "      <td>8</td>\n",
       "      <td>16</td>\n",
       "      <td>1</td>\n",
       "      <td>1</td>\n",
       "      <td>0</td>\n",
       "      <td>3</td>\n",
       "      <td>8</td>\n",
       "      <td>0</td>\n",
       "      <td>0</td>\n",
       "    </tr>\n",
       "    <tr>\n",
       "      <th>2237</th>\n",
       "      <td>22</td>\n",
       "      <td>1976</td>\n",
       "      <td>Graduation</td>\n",
       "      <td>Divorced</td>\n",
       "      <td>46310.0</td>\n",
       "      <td>1</td>\n",
       "      <td>0</td>\n",
       "      <td>3/12/2012</td>\n",
       "      <td>99</td>\n",
       "      <td>185</td>\n",
       "      <td>...</td>\n",
       "      <td>15</td>\n",
       "      <td>5</td>\n",
       "      <td>14</td>\n",
       "      <td>2</td>\n",
       "      <td>6</td>\n",
       "      <td>1</td>\n",
       "      <td>5</td>\n",
       "      <td>8</td>\n",
       "      <td>0</td>\n",
       "      <td>0</td>\n",
       "    </tr>\n",
       "    <tr>\n",
       "      <th>2238</th>\n",
       "      <td>528</td>\n",
       "      <td>1978</td>\n",
       "      <td>Graduation</td>\n",
       "      <td>Married</td>\n",
       "      <td>65819.0</td>\n",
       "      <td>0</td>\n",
       "      <td>0</td>\n",
       "      <td>11/29/2012</td>\n",
       "      <td>99</td>\n",
       "      <td>267</td>\n",
       "      <td>...</td>\n",
       "      <td>149</td>\n",
       "      <td>165</td>\n",
       "      <td>63</td>\n",
       "      <td>1</td>\n",
       "      <td>5</td>\n",
       "      <td>4</td>\n",
       "      <td>10</td>\n",
       "      <td>3</td>\n",
       "      <td>0</td>\n",
       "      <td>0</td>\n",
       "    </tr>\n",
       "    <tr>\n",
       "      <th>2239</th>\n",
       "      <td>4070</td>\n",
       "      <td>1969</td>\n",
       "      <td>PhD</td>\n",
       "      <td>Married</td>\n",
       "      <td>94871.0</td>\n",
       "      <td>0</td>\n",
       "      <td>2</td>\n",
       "      <td>1/9/2012</td>\n",
       "      <td>99</td>\n",
       "      <td>169</td>\n",
       "      <td>...</td>\n",
       "      <td>188</td>\n",
       "      <td>0</td>\n",
       "      <td>144</td>\n",
       "      <td>1</td>\n",
       "      <td>8</td>\n",
       "      <td>5</td>\n",
       "      <td>4</td>\n",
       "      <td>7</td>\n",
       "      <td>1</td>\n",
       "      <td>0</td>\n",
       "    </tr>\n",
       "  </tbody>\n",
       "</table>\n",
       "<p>2240 rows × 22 columns</p>\n",
       "</div>"
      ],
      "text/plain": [
       "         Id  Year_Birth   Education Marital_Status   Income  Kidhome  \\\n",
       "0      1826        1970  Graduation       Divorced  84835.0        0   \n",
       "1         1        1961  Graduation         Single  57091.0        0   \n",
       "2     10476        1958  Graduation        Married  67267.0        0   \n",
       "3      1386        1967  Graduation       Together  32474.0        1   \n",
       "4      5371        1989  Graduation         Single  21474.0        1   \n",
       "...     ...         ...         ...            ...      ...      ...   \n",
       "2235  10142        1976         PhD       Divorced  66476.0        0   \n",
       "2236   5263        1977    2n Cycle        Married  31056.0        1   \n",
       "2237     22        1976  Graduation       Divorced  46310.0        1   \n",
       "2238    528        1978  Graduation        Married  65819.0        0   \n",
       "2239   4070        1969         PhD        Married  94871.0        0   \n",
       "\n",
       "      Teenhome Dt_Customer  Recency  MntWines  ...  MntFishProducts  \\\n",
       "0            0   6/16/2014        0       189  ...              111   \n",
       "1            0   6/15/2014        0       464  ...                7   \n",
       "2            1   5/13/2014        0       134  ...               15   \n",
       "3            1   11/5/2014        0        10  ...                0   \n",
       "4            0    8/4/2014        0         6  ...               11   \n",
       "...        ...         ...      ...       ...  ...              ...   \n",
       "2235         1    7/3/2013       99       372  ...               47   \n",
       "2236         0   1/22/2013       99         5  ...                3   \n",
       "2237         0   3/12/2012       99       185  ...               15   \n",
       "2238         0  11/29/2012       99       267  ...              149   \n",
       "2239         2    1/9/2012       99       169  ...              188   \n",
       "\n",
       "      MntSweetProducts  MntGoldProds  NumDealsPurchases  NumWebPurchases  \\\n",
       "0                  189           218                  1                4   \n",
       "1                    0            37                  1                7   \n",
       "2                    2            30                  1                3   \n",
       "3                    0             0                  1                1   \n",
       "4                    0            34                  2                3   \n",
       "...                ...           ...                ...              ...   \n",
       "2235                48            78                  2                5   \n",
       "2236                 8            16                  1                1   \n",
       "2237                 5            14                  2                6   \n",
       "2238               165            63                  1                5   \n",
       "2239                 0           144                  1                8   \n",
       "\n",
       "      NumCatalogPurchases  NumStorePurchases  NumWebVisitsMonth  Response  \\\n",
       "0                       4                  6                  1         1   \n",
       "1                       3                  7                  5         1   \n",
       "2                       2                  5                  2         0   \n",
       "3                       0                  2                  7         0   \n",
       "4                       1                  2                  7         1   \n",
       "...                   ...                ...                ...       ...   \n",
       "2235                    2                 11                  4         0   \n",
       "2236                    0                  3                  8         0   \n",
       "2237                    1                  5                  8         0   \n",
       "2238                    4                 10                  3         0   \n",
       "2239                    5                  4                  7         1   \n",
       "\n",
       "      Complain  \n",
       "0            0  \n",
       "1            0  \n",
       "2            0  \n",
       "3            0  \n",
       "4            0  \n",
       "...        ...  \n",
       "2235         0  \n",
       "2236         0  \n",
       "2237         0  \n",
       "2238         0  \n",
       "2239         0  \n",
       "\n",
       "[2240 rows x 22 columns]"
      ]
     },
     "execution_count": 2,
     "metadata": {},
     "output_type": "execute_result"
    }
   ],
   "source": [
    "df = pd.read_csv('/kaggle/input/superstore-marketing-campaign-dataset/superstore_data.csv')\n",
    "df"
   ]
  },
  {
   "cell_type": "code",
   "execution_count": 3,
   "id": "1dbb2192",
   "metadata": {
    "execution": {
     "iopub.execute_input": "2023-02-08T17:18:36.358926Z",
     "iopub.status.busy": "2023-02-08T17:18:36.358484Z",
     "iopub.status.idle": "2023-02-08T17:18:36.383674Z",
     "shell.execute_reply": "2023-02-08T17:18:36.382197Z"
    },
    "papermill": {
     "duration": 0.041123,
     "end_time": "2023-02-08T17:18:36.387140",
     "exception": false,
     "start_time": "2023-02-08T17:18:36.346017",
     "status": "completed"
    },
    "tags": []
   },
   "outputs": [
    {
     "name": "stdout",
     "output_type": "stream",
     "text": [
      "<class 'pandas.core.frame.DataFrame'>\n",
      "RangeIndex: 2240 entries, 0 to 2239\n",
      "Data columns (total 22 columns):\n",
      " #   Column               Non-Null Count  Dtype  \n",
      "---  ------               --------------  -----  \n",
      " 0   Id                   2240 non-null   int64  \n",
      " 1   Year_Birth           2240 non-null   int64  \n",
      " 2   Education            2240 non-null   object \n",
      " 3   Marital_Status       2240 non-null   object \n",
      " 4   Income               2216 non-null   float64\n",
      " 5   Kidhome              2240 non-null   int64  \n",
      " 6   Teenhome             2240 non-null   int64  \n",
      " 7   Dt_Customer          2240 non-null   object \n",
      " 8   Recency              2240 non-null   int64  \n",
      " 9   MntWines             2240 non-null   int64  \n",
      " 10  MntFruits            2240 non-null   int64  \n",
      " 11  MntMeatProducts      2240 non-null   int64  \n",
      " 12  MntFishProducts      2240 non-null   int64  \n",
      " 13  MntSweetProducts     2240 non-null   int64  \n",
      " 14  MntGoldProds         2240 non-null   int64  \n",
      " 15  NumDealsPurchases    2240 non-null   int64  \n",
      " 16  NumWebPurchases      2240 non-null   int64  \n",
      " 17  NumCatalogPurchases  2240 non-null   int64  \n",
      " 18  NumStorePurchases    2240 non-null   int64  \n",
      " 19  NumWebVisitsMonth    2240 non-null   int64  \n",
      " 20  Response             2240 non-null   int64  \n",
      " 21  Complain             2240 non-null   int64  \n",
      "dtypes: float64(1), int64(18), object(3)\n",
      "memory usage: 385.1+ KB\n"
     ]
    }
   ],
   "source": [
    "df.info()"
   ]
  },
  {
   "cell_type": "markdown",
   "id": "7723c8e7",
   "metadata": {
    "papermill": {
     "duration": 0.01093,
     "end_time": "2023-02-08T17:18:36.409494",
     "exception": false,
     "start_time": "2023-02-08T17:18:36.398564",
     "status": "completed"
    },
    "tags": []
   },
   "source": [
    "**Checking the information of dataframe**"
   ]
  },
  {
   "cell_type": "code",
   "execution_count": 4,
   "id": "7d628608",
   "metadata": {
    "execution": {
     "iopub.execute_input": "2023-02-08T17:18:36.434699Z",
     "iopub.status.busy": "2023-02-08T17:18:36.434269Z",
     "iopub.status.idle": "2023-02-08T17:18:36.440788Z",
     "shell.execute_reply": "2023-02-08T17:18:36.439875Z"
    },
    "papermill": {
     "duration": 0.022215,
     "end_time": "2023-02-08T17:18:36.443128",
     "exception": false,
     "start_time": "2023-02-08T17:18:36.420913",
     "status": "completed"
    },
    "tags": []
   },
   "outputs": [
    {
     "data": {
      "text/plain": [
       "(2240, 22)"
      ]
     },
     "execution_count": 4,
     "metadata": {},
     "output_type": "execute_result"
    }
   ],
   "source": [
    "df.shape"
   ]
  },
  {
   "cell_type": "code",
   "execution_count": 5,
   "id": "c939b522",
   "metadata": {
    "execution": {
     "iopub.execute_input": "2023-02-08T17:18:36.468054Z",
     "iopub.status.busy": "2023-02-08T17:18:36.467309Z",
     "iopub.status.idle": "2023-02-08T17:18:36.476037Z",
     "shell.execute_reply": "2023-02-08T17:18:36.474832Z"
    },
    "papermill": {
     "duration": 0.024129,
     "end_time": "2023-02-08T17:18:36.478595",
     "exception": false,
     "start_time": "2023-02-08T17:18:36.454466",
     "status": "completed"
    },
    "tags": []
   },
   "outputs": [
    {
     "data": {
      "text/plain": [
       "Graduation    1127\n",
       "PhD            486\n",
       "Master         370\n",
       "2n Cycle       203\n",
       "Basic           54\n",
       "Name: Education, dtype: int64"
      ]
     },
     "execution_count": 5,
     "metadata": {},
     "output_type": "execute_result"
    }
   ],
   "source": [
    "df.Education.value_counts()"
   ]
  },
  {
   "cell_type": "code",
   "execution_count": 6,
   "id": "ed813c33",
   "metadata": {
    "execution": {
     "iopub.execute_input": "2023-02-08T17:18:36.503478Z",
     "iopub.status.busy": "2023-02-08T17:18:36.503019Z",
     "iopub.status.idle": "2023-02-08T17:18:36.512526Z",
     "shell.execute_reply": "2023-02-08T17:18:36.511290Z"
    },
    "papermill": {
     "duration": 0.025067,
     "end_time": "2023-02-08T17:18:36.515075",
     "exception": false,
     "start_time": "2023-02-08T17:18:36.490008",
     "status": "completed"
    },
    "tags": []
   },
   "outputs": [
    {
     "data": {
      "text/plain": [
       "Married     864\n",
       "Together    580\n",
       "Single      480\n",
       "Divorced    232\n",
       "Widow        77\n",
       "Alone         3\n",
       "YOLO          2\n",
       "Absurd        2\n",
       "Name: Marital_Status, dtype: int64"
      ]
     },
     "execution_count": 6,
     "metadata": {},
     "output_type": "execute_result"
    }
   ],
   "source": [
    "df.Marital_Status.value_counts()"
   ]
  },
  {
   "cell_type": "code",
   "execution_count": 7,
   "id": "7f4ad081",
   "metadata": {
    "execution": {
     "iopub.execute_input": "2023-02-08T17:18:36.540190Z",
     "iopub.status.busy": "2023-02-08T17:18:36.539780Z",
     "iopub.status.idle": "2023-02-08T17:18:36.548257Z",
     "shell.execute_reply": "2023-02-08T17:18:36.547142Z"
    },
    "papermill": {
     "duration": 0.023804,
     "end_time": "2023-02-08T17:18:36.550419",
     "exception": false,
     "start_time": "2023-02-08T17:18:36.526615",
     "status": "completed"
    },
    "tags": []
   },
   "outputs": [
    {
     "data": {
      "text/plain": [
       "0    1906\n",
       "1     334\n",
       "Name: Response, dtype: int64"
      ]
     },
     "execution_count": 7,
     "metadata": {},
     "output_type": "execute_result"
    }
   ],
   "source": [
    "df.Response.value_counts()"
   ]
  },
  {
   "cell_type": "markdown",
   "id": "9a60bb18",
   "metadata": {
    "papermill": {
     "duration": 0.011447,
     "end_time": "2023-02-08T17:18:36.574309",
     "exception": false,
     "start_time": "2023-02-08T17:18:36.562862",
     "status": "completed"
    },
    "tags": []
   },
   "source": [
    "**Checking for null values**"
   ]
  },
  {
   "cell_type": "code",
   "execution_count": 8,
   "id": "0b37f681",
   "metadata": {
    "execution": {
     "iopub.execute_input": "2023-02-08T17:18:36.599520Z",
     "iopub.status.busy": "2023-02-08T17:18:36.599070Z",
     "iopub.status.idle": "2023-02-08T17:18:36.610315Z",
     "shell.execute_reply": "2023-02-08T17:18:36.609158Z"
    },
    "papermill": {
     "duration": 0.0267,
     "end_time": "2023-02-08T17:18:36.612801",
     "exception": false,
     "start_time": "2023-02-08T17:18:36.586101",
     "status": "completed"
    },
    "tags": []
   },
   "outputs": [
    {
     "data": {
      "text/plain": [
       "Id                      0\n",
       "Year_Birth              0\n",
       "Education               0\n",
       "Marital_Status          0\n",
       "Income                 24\n",
       "Kidhome                 0\n",
       "Teenhome                0\n",
       "Dt_Customer             0\n",
       "Recency                 0\n",
       "MntWines                0\n",
       "MntFruits               0\n",
       "MntMeatProducts         0\n",
       "MntFishProducts         0\n",
       "MntSweetProducts        0\n",
       "MntGoldProds            0\n",
       "NumDealsPurchases       0\n",
       "NumWebPurchases         0\n",
       "NumCatalogPurchases     0\n",
       "NumStorePurchases       0\n",
       "NumWebVisitsMonth       0\n",
       "Response                0\n",
       "Complain                0\n",
       "dtype: int64"
      ]
     },
     "execution_count": 8,
     "metadata": {},
     "output_type": "execute_result"
    }
   ],
   "source": [
    "df.isnull().sum()"
   ]
  },
  {
   "cell_type": "code",
   "execution_count": 9,
   "id": "a2c424de",
   "metadata": {
    "execution": {
     "iopub.execute_input": "2023-02-08T17:18:36.638026Z",
     "iopub.status.busy": "2023-02-08T17:18:36.637603Z",
     "iopub.status.idle": "2023-02-08T17:18:36.651092Z",
     "shell.execute_reply": "2023-02-08T17:18:36.649946Z"
    },
    "papermill": {
     "duration": 0.028815,
     "end_time": "2023-02-08T17:18:36.653400",
     "exception": false,
     "start_time": "2023-02-08T17:18:36.624585",
     "status": "completed"
    },
    "tags": []
   },
   "outputs": [
    {
     "data": {
      "text/plain": [
       "Id                     0\n",
       "Year_Birth             0\n",
       "Education              0\n",
       "Marital_Status         0\n",
       "Income                 0\n",
       "Kidhome                0\n",
       "Teenhome               0\n",
       "Dt_Customer            0\n",
       "Recency                0\n",
       "MntWines               0\n",
       "MntFruits              0\n",
       "MntMeatProducts        0\n",
       "MntFishProducts        0\n",
       "MntSweetProducts       0\n",
       "MntGoldProds           0\n",
       "NumDealsPurchases      0\n",
       "NumWebPurchases        0\n",
       "NumCatalogPurchases    0\n",
       "NumStorePurchases      0\n",
       "NumWebVisitsMonth      0\n",
       "Response               0\n",
       "Complain               0\n",
       "dtype: int64"
      ]
     },
     "execution_count": 9,
     "metadata": {},
     "output_type": "execute_result"
    }
   ],
   "source": [
    "# for dropping null values\n",
    "df['Income'].fillna(median(df['Income'].dropna()), inplace = True)\n",
    "df.isnull().sum()"
   ]
  },
  {
   "cell_type": "code",
   "execution_count": 10,
   "id": "ba4937da",
   "metadata": {
    "execution": {
     "iopub.execute_input": "2023-02-08T17:18:36.680317Z",
     "iopub.status.busy": "2023-02-08T17:18:36.679869Z",
     "iopub.status.idle": "2023-02-08T17:18:36.854640Z",
     "shell.execute_reply": "2023-02-08T17:18:36.853218Z"
    },
    "papermill": {
     "duration": 0.192685,
     "end_time": "2023-02-08T17:18:36.857979",
     "exception": false,
     "start_time": "2023-02-08T17:18:36.665294",
     "status": "completed"
    },
    "tags": []
   },
   "outputs": [
    {
     "name": "stdout",
     "output_type": "stream",
     "text": [
      "<class 'pandas.core.frame.DataFrame'>\n",
      "RangeIndex: 2240 entries, 0 to 2239\n",
      "Data columns (total 22 columns):\n",
      " #   Column               Non-Null Count  Dtype         \n",
      "---  ------               --------------  -----         \n",
      " 0   Id                   2240 non-null   int64         \n",
      " 1   Year_Birth           2240 non-null   int64         \n",
      " 2   Education            2240 non-null   object        \n",
      " 3   Marital_Status       2240 non-null   object        \n",
      " 4   Income               2240 non-null   int64         \n",
      " 5   Kidhome              2240 non-null   int64         \n",
      " 6   Teenhome             2240 non-null   int64         \n",
      " 7   Dt_Customer          2240 non-null   datetime64[ns]\n",
      " 8   Recency              2240 non-null   int64         \n",
      " 9   MntWines             2240 non-null   int64         \n",
      " 10  MntFruits            2240 non-null   int64         \n",
      " 11  MntMeatProducts      2240 non-null   int64         \n",
      " 12  MntFishProducts      2240 non-null   int64         \n",
      " 13  MntSweetProducts     2240 non-null   int64         \n",
      " 14  MntGoldProds         2240 non-null   int64         \n",
      " 15  NumDealsPurchases    2240 non-null   int64         \n",
      " 16  NumWebPurchases      2240 non-null   int64         \n",
      " 17  NumCatalogPurchases  2240 non-null   int64         \n",
      " 18  NumStorePurchases    2240 non-null   int64         \n",
      " 19  NumWebVisitsMonth    2240 non-null   int64         \n",
      " 20  Response             2240 non-null   int64         \n",
      " 21  Complain             2240 non-null   int64         \n",
      "dtypes: datetime64[ns](1), int64(19), object(2)\n",
      "memory usage: 385.1+ KB\n"
     ]
    }
   ],
   "source": [
    "#changing the datatype of date\n",
    "df['Dt_Customer'] = pd.to_datetime(df['Dt_Customer']) \n",
    "df['Income'] = df['Income'].astype(np.int64)\n",
    "\n",
    "df.info()"
   ]
  },
  {
   "cell_type": "code",
   "execution_count": 11,
   "id": "611ccb49",
   "metadata": {
    "execution": {
     "iopub.execute_input": "2023-02-08T17:18:36.884700Z",
     "iopub.status.busy": "2023-02-08T17:18:36.884249Z",
     "iopub.status.idle": "2023-02-08T17:18:36.910994Z",
     "shell.execute_reply": "2023-02-08T17:18:36.910033Z"
    },
    "papermill": {
     "duration": 0.042923,
     "end_time": "2023-02-08T17:18:36.913551",
     "exception": false,
     "start_time": "2023-02-08T17:18:36.870628",
     "status": "completed"
    },
    "tags": []
   },
   "outputs": [
    {
     "data": {
      "text/html": [
       "<div>\n",
       "<style scoped>\n",
       "    .dataframe tbody tr th:only-of-type {\n",
       "        vertical-align: middle;\n",
       "    }\n",
       "\n",
       "    .dataframe tbody tr th {\n",
       "        vertical-align: top;\n",
       "    }\n",
       "\n",
       "    .dataframe thead th {\n",
       "        text-align: right;\n",
       "    }\n",
       "</style>\n",
       "<table border=\"1\" class=\"dataframe\">\n",
       "  <thead>\n",
       "    <tr style=\"text-align: right;\">\n",
       "      <th></th>\n",
       "      <th>Id</th>\n",
       "      <th>Year_Birth</th>\n",
       "      <th>Education</th>\n",
       "      <th>Marital_Status</th>\n",
       "      <th>Income</th>\n",
       "      <th>Kidhome</th>\n",
       "      <th>Teenhome</th>\n",
       "      <th>Recency</th>\n",
       "      <th>MntWines</th>\n",
       "      <th>MntFruits</th>\n",
       "      <th>...</th>\n",
       "      <th>MntFishProducts</th>\n",
       "      <th>MntSweetProducts</th>\n",
       "      <th>MntGoldProds</th>\n",
       "      <th>NumDealsPurchases</th>\n",
       "      <th>NumWebPurchases</th>\n",
       "      <th>NumCatalogPurchases</th>\n",
       "      <th>NumStorePurchases</th>\n",
       "      <th>NumWebVisitsMonth</th>\n",
       "      <th>Response</th>\n",
       "      <th>Complain</th>\n",
       "    </tr>\n",
       "  </thead>\n",
       "  <tbody>\n",
       "    <tr>\n",
       "      <th>0</th>\n",
       "      <td>1826</td>\n",
       "      <td>1970</td>\n",
       "      <td>Graduation</td>\n",
       "      <td>Divorced</td>\n",
       "      <td>84835</td>\n",
       "      <td>0</td>\n",
       "      <td>0</td>\n",
       "      <td>0</td>\n",
       "      <td>189</td>\n",
       "      <td>104</td>\n",
       "      <td>...</td>\n",
       "      <td>111</td>\n",
       "      <td>189</td>\n",
       "      <td>218</td>\n",
       "      <td>1</td>\n",
       "      <td>4</td>\n",
       "      <td>4</td>\n",
       "      <td>6</td>\n",
       "      <td>1</td>\n",
       "      <td>1</td>\n",
       "      <td>0</td>\n",
       "    </tr>\n",
       "    <tr>\n",
       "      <th>1</th>\n",
       "      <td>1</td>\n",
       "      <td>1961</td>\n",
       "      <td>Graduation</td>\n",
       "      <td>Single</td>\n",
       "      <td>57091</td>\n",
       "      <td>0</td>\n",
       "      <td>0</td>\n",
       "      <td>0</td>\n",
       "      <td>464</td>\n",
       "      <td>5</td>\n",
       "      <td>...</td>\n",
       "      <td>7</td>\n",
       "      <td>0</td>\n",
       "      <td>37</td>\n",
       "      <td>1</td>\n",
       "      <td>7</td>\n",
       "      <td>3</td>\n",
       "      <td>7</td>\n",
       "      <td>5</td>\n",
       "      <td>1</td>\n",
       "      <td>0</td>\n",
       "    </tr>\n",
       "    <tr>\n",
       "      <th>2</th>\n",
       "      <td>10476</td>\n",
       "      <td>1958</td>\n",
       "      <td>Graduation</td>\n",
       "      <td>Married</td>\n",
       "      <td>67267</td>\n",
       "      <td>0</td>\n",
       "      <td>1</td>\n",
       "      <td>0</td>\n",
       "      <td>134</td>\n",
       "      <td>11</td>\n",
       "      <td>...</td>\n",
       "      <td>15</td>\n",
       "      <td>2</td>\n",
       "      <td>30</td>\n",
       "      <td>1</td>\n",
       "      <td>3</td>\n",
       "      <td>2</td>\n",
       "      <td>5</td>\n",
       "      <td>2</td>\n",
       "      <td>0</td>\n",
       "      <td>0</td>\n",
       "    </tr>\n",
       "    <tr>\n",
       "      <th>3</th>\n",
       "      <td>1386</td>\n",
       "      <td>1967</td>\n",
       "      <td>Graduation</td>\n",
       "      <td>Together</td>\n",
       "      <td>32474</td>\n",
       "      <td>1</td>\n",
       "      <td>1</td>\n",
       "      <td>0</td>\n",
       "      <td>10</td>\n",
       "      <td>0</td>\n",
       "      <td>...</td>\n",
       "      <td>0</td>\n",
       "      <td>0</td>\n",
       "      <td>0</td>\n",
       "      <td>1</td>\n",
       "      <td>1</td>\n",
       "      <td>0</td>\n",
       "      <td>2</td>\n",
       "      <td>7</td>\n",
       "      <td>0</td>\n",
       "      <td>0</td>\n",
       "    </tr>\n",
       "    <tr>\n",
       "      <th>4</th>\n",
       "      <td>5371</td>\n",
       "      <td>1989</td>\n",
       "      <td>Graduation</td>\n",
       "      <td>Single</td>\n",
       "      <td>21474</td>\n",
       "      <td>1</td>\n",
       "      <td>0</td>\n",
       "      <td>0</td>\n",
       "      <td>6</td>\n",
       "      <td>16</td>\n",
       "      <td>...</td>\n",
       "      <td>11</td>\n",
       "      <td>0</td>\n",
       "      <td>34</td>\n",
       "      <td>2</td>\n",
       "      <td>3</td>\n",
       "      <td>1</td>\n",
       "      <td>2</td>\n",
       "      <td>7</td>\n",
       "      <td>1</td>\n",
       "      <td>0</td>\n",
       "    </tr>\n",
       "    <tr>\n",
       "      <th>...</th>\n",
       "      <td>...</td>\n",
       "      <td>...</td>\n",
       "      <td>...</td>\n",
       "      <td>...</td>\n",
       "      <td>...</td>\n",
       "      <td>...</td>\n",
       "      <td>...</td>\n",
       "      <td>...</td>\n",
       "      <td>...</td>\n",
       "      <td>...</td>\n",
       "      <td>...</td>\n",
       "      <td>...</td>\n",
       "      <td>...</td>\n",
       "      <td>...</td>\n",
       "      <td>...</td>\n",
       "      <td>...</td>\n",
       "      <td>...</td>\n",
       "      <td>...</td>\n",
       "      <td>...</td>\n",
       "      <td>...</td>\n",
       "      <td>...</td>\n",
       "    </tr>\n",
       "    <tr>\n",
       "      <th>2235</th>\n",
       "      <td>10142</td>\n",
       "      <td>1976</td>\n",
       "      <td>PhD</td>\n",
       "      <td>Divorced</td>\n",
       "      <td>66476</td>\n",
       "      <td>0</td>\n",
       "      <td>1</td>\n",
       "      <td>99</td>\n",
       "      <td>372</td>\n",
       "      <td>18</td>\n",
       "      <td>...</td>\n",
       "      <td>47</td>\n",
       "      <td>48</td>\n",
       "      <td>78</td>\n",
       "      <td>2</td>\n",
       "      <td>5</td>\n",
       "      <td>2</td>\n",
       "      <td>11</td>\n",
       "      <td>4</td>\n",
       "      <td>0</td>\n",
       "      <td>0</td>\n",
       "    </tr>\n",
       "    <tr>\n",
       "      <th>2236</th>\n",
       "      <td>5263</td>\n",
       "      <td>1977</td>\n",
       "      <td>2n Cycle</td>\n",
       "      <td>Married</td>\n",
       "      <td>31056</td>\n",
       "      <td>1</td>\n",
       "      <td>0</td>\n",
       "      <td>99</td>\n",
       "      <td>5</td>\n",
       "      <td>10</td>\n",
       "      <td>...</td>\n",
       "      <td>3</td>\n",
       "      <td>8</td>\n",
       "      <td>16</td>\n",
       "      <td>1</td>\n",
       "      <td>1</td>\n",
       "      <td>0</td>\n",
       "      <td>3</td>\n",
       "      <td>8</td>\n",
       "      <td>0</td>\n",
       "      <td>0</td>\n",
       "    </tr>\n",
       "    <tr>\n",
       "      <th>2237</th>\n",
       "      <td>22</td>\n",
       "      <td>1976</td>\n",
       "      <td>Graduation</td>\n",
       "      <td>Divorced</td>\n",
       "      <td>46310</td>\n",
       "      <td>1</td>\n",
       "      <td>0</td>\n",
       "      <td>99</td>\n",
       "      <td>185</td>\n",
       "      <td>2</td>\n",
       "      <td>...</td>\n",
       "      <td>15</td>\n",
       "      <td>5</td>\n",
       "      <td>14</td>\n",
       "      <td>2</td>\n",
       "      <td>6</td>\n",
       "      <td>1</td>\n",
       "      <td>5</td>\n",
       "      <td>8</td>\n",
       "      <td>0</td>\n",
       "      <td>0</td>\n",
       "    </tr>\n",
       "    <tr>\n",
       "      <th>2238</th>\n",
       "      <td>528</td>\n",
       "      <td>1978</td>\n",
       "      <td>Graduation</td>\n",
       "      <td>Married</td>\n",
       "      <td>65819</td>\n",
       "      <td>0</td>\n",
       "      <td>0</td>\n",
       "      <td>99</td>\n",
       "      <td>267</td>\n",
       "      <td>38</td>\n",
       "      <td>...</td>\n",
       "      <td>149</td>\n",
       "      <td>165</td>\n",
       "      <td>63</td>\n",
       "      <td>1</td>\n",
       "      <td>5</td>\n",
       "      <td>4</td>\n",
       "      <td>10</td>\n",
       "      <td>3</td>\n",
       "      <td>0</td>\n",
       "      <td>0</td>\n",
       "    </tr>\n",
       "    <tr>\n",
       "      <th>2239</th>\n",
       "      <td>4070</td>\n",
       "      <td>1969</td>\n",
       "      <td>PhD</td>\n",
       "      <td>Married</td>\n",
       "      <td>94871</td>\n",
       "      <td>0</td>\n",
       "      <td>2</td>\n",
       "      <td>99</td>\n",
       "      <td>169</td>\n",
       "      <td>24</td>\n",
       "      <td>...</td>\n",
       "      <td>188</td>\n",
       "      <td>0</td>\n",
       "      <td>144</td>\n",
       "      <td>1</td>\n",
       "      <td>8</td>\n",
       "      <td>5</td>\n",
       "      <td>4</td>\n",
       "      <td>7</td>\n",
       "      <td>1</td>\n",
       "      <td>0</td>\n",
       "    </tr>\n",
       "  </tbody>\n",
       "</table>\n",
       "<p>2240 rows × 21 columns</p>\n",
       "</div>"
      ],
      "text/plain": [
       "         Id  Year_Birth   Education Marital_Status  Income  Kidhome  Teenhome  \\\n",
       "0      1826        1970  Graduation       Divorced   84835        0         0   \n",
       "1         1        1961  Graduation         Single   57091        0         0   \n",
       "2     10476        1958  Graduation        Married   67267        0         1   \n",
       "3      1386        1967  Graduation       Together   32474        1         1   \n",
       "4      5371        1989  Graduation         Single   21474        1         0   \n",
       "...     ...         ...         ...            ...     ...      ...       ...   \n",
       "2235  10142        1976         PhD       Divorced   66476        0         1   \n",
       "2236   5263        1977    2n Cycle        Married   31056        1         0   \n",
       "2237     22        1976  Graduation       Divorced   46310        1         0   \n",
       "2238    528        1978  Graduation        Married   65819        0         0   \n",
       "2239   4070        1969         PhD        Married   94871        0         2   \n",
       "\n",
       "      Recency  MntWines  MntFruits  ...  MntFishProducts  MntSweetProducts  \\\n",
       "0           0       189        104  ...              111               189   \n",
       "1           0       464          5  ...                7                 0   \n",
       "2           0       134         11  ...               15                 2   \n",
       "3           0        10          0  ...                0                 0   \n",
       "4           0         6         16  ...               11                 0   \n",
       "...       ...       ...        ...  ...              ...               ...   \n",
       "2235       99       372         18  ...               47                48   \n",
       "2236       99         5         10  ...                3                 8   \n",
       "2237       99       185          2  ...               15                 5   \n",
       "2238       99       267         38  ...              149               165   \n",
       "2239       99       169         24  ...              188                 0   \n",
       "\n",
       "      MntGoldProds  NumDealsPurchases  NumWebPurchases  NumCatalogPurchases  \\\n",
       "0              218                  1                4                    4   \n",
       "1               37                  1                7                    3   \n",
       "2               30                  1                3                    2   \n",
       "3                0                  1                1                    0   \n",
       "4               34                  2                3                    1   \n",
       "...            ...                ...              ...                  ...   \n",
       "2235            78                  2                5                    2   \n",
       "2236            16                  1                1                    0   \n",
       "2237            14                  2                6                    1   \n",
       "2238            63                  1                5                    4   \n",
       "2239           144                  1                8                    5   \n",
       "\n",
       "      NumStorePurchases  NumWebVisitsMonth  Response  Complain  \n",
       "0                     6                  1         1         0  \n",
       "1                     7                  5         1         0  \n",
       "2                     5                  2         0         0  \n",
       "3                     2                  7         0         0  \n",
       "4                     2                  7         1         0  \n",
       "...                 ...                ...       ...       ...  \n",
       "2235                 11                  4         0         0  \n",
       "2236                  3                  8         0         0  \n",
       "2237                  5                  8         0         0  \n",
       "2238                 10                  3         0         0  \n",
       "2239                  4                  7         1         0  \n",
       "\n",
       "[2240 rows x 21 columns]"
      ]
     },
     "execution_count": 11,
     "metadata": {},
     "output_type": "execute_result"
    }
   ],
   "source": [
    "# dropping date column\n",
    "df = df.drop(['Dt_Customer'], axis = 1)\n",
    "df"
   ]
  },
  {
   "cell_type": "markdown",
   "id": "e244b61c",
   "metadata": {
    "papermill": {
     "duration": 0.012179,
     "end_time": "2023-02-08T17:18:36.938245",
     "exception": false,
     "start_time": "2023-02-08T17:18:36.926066",
     "status": "completed"
    },
    "tags": []
   },
   "source": [
    "**One-hot encoding**"
   ]
  },
  {
   "cell_type": "code",
   "execution_count": 12,
   "id": "13df43e8",
   "metadata": {
    "execution": {
     "iopub.execute_input": "2023-02-08T17:18:36.965798Z",
     "iopub.status.busy": "2023-02-08T17:18:36.965073Z",
     "iopub.status.idle": "2023-02-08T17:18:36.976724Z",
     "shell.execute_reply": "2023-02-08T17:18:36.975199Z"
    },
    "papermill": {
     "duration": 0.028803,
     "end_time": "2023-02-08T17:18:36.979583",
     "exception": false,
     "start_time": "2023-02-08T17:18:36.950780",
     "status": "completed"
    },
    "tags": []
   },
   "outputs": [
    {
     "name": "stdout",
     "output_type": "stream",
     "text": [
      "Id : 2240 Labels\n",
      "Year_Birth : 59 Labels\n",
      "Education : 5 Labels\n",
      "Marital_Status : 8 Labels\n",
      "Income : 1975 Labels\n",
      "Kidhome : 3 Labels\n",
      "Teenhome : 3 Labels\n",
      "Recency : 100 Labels\n",
      "MntWines : 776 Labels\n",
      "MntFruits : 158 Labels\n",
      "MntMeatProducts : 558 Labels\n",
      "MntFishProducts : 182 Labels\n",
      "MntSweetProducts : 177 Labels\n",
      "MntGoldProds : 213 Labels\n",
      "NumDealsPurchases : 15 Labels\n",
      "NumWebPurchases : 15 Labels\n",
      "NumCatalogPurchases : 14 Labels\n",
      "NumStorePurchases : 14 Labels\n",
      "NumWebVisitsMonth : 16 Labels\n",
      "Response : 2 Labels\n",
      "Complain : 2 Labels\n"
     ]
    }
   ],
   "source": [
    "for col in df.columns:\n",
    "    print(col, ':', len(df[col].unique()), 'Labels')"
   ]
  },
  {
   "cell_type": "code",
   "execution_count": 13,
   "id": "c32c4a0f",
   "metadata": {
    "execution": {
     "iopub.execute_input": "2023-02-08T17:18:37.006884Z",
     "iopub.status.busy": "2023-02-08T17:18:37.006392Z",
     "iopub.status.idle": "2023-02-08T17:18:37.035459Z",
     "shell.execute_reply": "2023-02-08T17:18:37.034294Z"
    },
    "papermill": {
     "duration": 0.045683,
     "end_time": "2023-02-08T17:18:37.038002",
     "exception": false,
     "start_time": "2023-02-08T17:18:36.992319",
     "status": "completed"
    },
    "tags": []
   },
   "outputs": [
    {
     "data": {
      "text/html": [
       "<div>\n",
       "<style scoped>\n",
       "    .dataframe tbody tr th:only-of-type {\n",
       "        vertical-align: middle;\n",
       "    }\n",
       "\n",
       "    .dataframe tbody tr th {\n",
       "        vertical-align: top;\n",
       "    }\n",
       "\n",
       "    .dataframe thead th {\n",
       "        text-align: right;\n",
       "    }\n",
       "</style>\n",
       "<table border=\"1\" class=\"dataframe\">\n",
       "  <thead>\n",
       "    <tr style=\"text-align: right;\">\n",
       "      <th></th>\n",
       "      <th>Id</th>\n",
       "      <th>Year_Birth</th>\n",
       "      <th>Education</th>\n",
       "      <th>Marital_Status</th>\n",
       "      <th>Income</th>\n",
       "      <th>Kidhome</th>\n",
       "      <th>Teenhome</th>\n",
       "      <th>Recency</th>\n",
       "      <th>MntWines</th>\n",
       "      <th>MntFruits</th>\n",
       "      <th>...</th>\n",
       "      <th>Master</th>\n",
       "      <th>PhD</th>\n",
       "      <th>Absurd</th>\n",
       "      <th>Alone</th>\n",
       "      <th>Divorced</th>\n",
       "      <th>Married</th>\n",
       "      <th>Single</th>\n",
       "      <th>Together</th>\n",
       "      <th>Widow</th>\n",
       "      <th>YOLO</th>\n",
       "    </tr>\n",
       "  </thead>\n",
       "  <tbody>\n",
       "    <tr>\n",
       "      <th>0</th>\n",
       "      <td>1826</td>\n",
       "      <td>1970</td>\n",
       "      <td>Graduation</td>\n",
       "      <td>Divorced</td>\n",
       "      <td>84835</td>\n",
       "      <td>0</td>\n",
       "      <td>0</td>\n",
       "      <td>0</td>\n",
       "      <td>189</td>\n",
       "      <td>104</td>\n",
       "      <td>...</td>\n",
       "      <td>0</td>\n",
       "      <td>0</td>\n",
       "      <td>0</td>\n",
       "      <td>0</td>\n",
       "      <td>1</td>\n",
       "      <td>0</td>\n",
       "      <td>0</td>\n",
       "      <td>0</td>\n",
       "      <td>0</td>\n",
       "      <td>0</td>\n",
       "    </tr>\n",
       "    <tr>\n",
       "      <th>1</th>\n",
       "      <td>1</td>\n",
       "      <td>1961</td>\n",
       "      <td>Graduation</td>\n",
       "      <td>Single</td>\n",
       "      <td>57091</td>\n",
       "      <td>0</td>\n",
       "      <td>0</td>\n",
       "      <td>0</td>\n",
       "      <td>464</td>\n",
       "      <td>5</td>\n",
       "      <td>...</td>\n",
       "      <td>0</td>\n",
       "      <td>0</td>\n",
       "      <td>0</td>\n",
       "      <td>0</td>\n",
       "      <td>0</td>\n",
       "      <td>0</td>\n",
       "      <td>1</td>\n",
       "      <td>0</td>\n",
       "      <td>0</td>\n",
       "      <td>0</td>\n",
       "    </tr>\n",
       "    <tr>\n",
       "      <th>2</th>\n",
       "      <td>10476</td>\n",
       "      <td>1958</td>\n",
       "      <td>Graduation</td>\n",
       "      <td>Married</td>\n",
       "      <td>67267</td>\n",
       "      <td>0</td>\n",
       "      <td>1</td>\n",
       "      <td>0</td>\n",
       "      <td>134</td>\n",
       "      <td>11</td>\n",
       "      <td>...</td>\n",
       "      <td>0</td>\n",
       "      <td>0</td>\n",
       "      <td>0</td>\n",
       "      <td>0</td>\n",
       "      <td>0</td>\n",
       "      <td>1</td>\n",
       "      <td>0</td>\n",
       "      <td>0</td>\n",
       "      <td>0</td>\n",
       "      <td>0</td>\n",
       "    </tr>\n",
       "    <tr>\n",
       "      <th>3</th>\n",
       "      <td>1386</td>\n",
       "      <td>1967</td>\n",
       "      <td>Graduation</td>\n",
       "      <td>Together</td>\n",
       "      <td>32474</td>\n",
       "      <td>1</td>\n",
       "      <td>1</td>\n",
       "      <td>0</td>\n",
       "      <td>10</td>\n",
       "      <td>0</td>\n",
       "      <td>...</td>\n",
       "      <td>0</td>\n",
       "      <td>0</td>\n",
       "      <td>0</td>\n",
       "      <td>0</td>\n",
       "      <td>0</td>\n",
       "      <td>0</td>\n",
       "      <td>0</td>\n",
       "      <td>1</td>\n",
       "      <td>0</td>\n",
       "      <td>0</td>\n",
       "    </tr>\n",
       "    <tr>\n",
       "      <th>4</th>\n",
       "      <td>5371</td>\n",
       "      <td>1989</td>\n",
       "      <td>Graduation</td>\n",
       "      <td>Single</td>\n",
       "      <td>21474</td>\n",
       "      <td>1</td>\n",
       "      <td>0</td>\n",
       "      <td>0</td>\n",
       "      <td>6</td>\n",
       "      <td>16</td>\n",
       "      <td>...</td>\n",
       "      <td>0</td>\n",
       "      <td>0</td>\n",
       "      <td>0</td>\n",
       "      <td>0</td>\n",
       "      <td>0</td>\n",
       "      <td>0</td>\n",
       "      <td>1</td>\n",
       "      <td>0</td>\n",
       "      <td>0</td>\n",
       "      <td>0</td>\n",
       "    </tr>\n",
       "    <tr>\n",
       "      <th>...</th>\n",
       "      <td>...</td>\n",
       "      <td>...</td>\n",
       "      <td>...</td>\n",
       "      <td>...</td>\n",
       "      <td>...</td>\n",
       "      <td>...</td>\n",
       "      <td>...</td>\n",
       "      <td>...</td>\n",
       "      <td>...</td>\n",
       "      <td>...</td>\n",
       "      <td>...</td>\n",
       "      <td>...</td>\n",
       "      <td>...</td>\n",
       "      <td>...</td>\n",
       "      <td>...</td>\n",
       "      <td>...</td>\n",
       "      <td>...</td>\n",
       "      <td>...</td>\n",
       "      <td>...</td>\n",
       "      <td>...</td>\n",
       "      <td>...</td>\n",
       "    </tr>\n",
       "    <tr>\n",
       "      <th>2235</th>\n",
       "      <td>10142</td>\n",
       "      <td>1976</td>\n",
       "      <td>PhD</td>\n",
       "      <td>Divorced</td>\n",
       "      <td>66476</td>\n",
       "      <td>0</td>\n",
       "      <td>1</td>\n",
       "      <td>99</td>\n",
       "      <td>372</td>\n",
       "      <td>18</td>\n",
       "      <td>...</td>\n",
       "      <td>0</td>\n",
       "      <td>1</td>\n",
       "      <td>0</td>\n",
       "      <td>0</td>\n",
       "      <td>1</td>\n",
       "      <td>0</td>\n",
       "      <td>0</td>\n",
       "      <td>0</td>\n",
       "      <td>0</td>\n",
       "      <td>0</td>\n",
       "    </tr>\n",
       "    <tr>\n",
       "      <th>2236</th>\n",
       "      <td>5263</td>\n",
       "      <td>1977</td>\n",
       "      <td>2n Cycle</td>\n",
       "      <td>Married</td>\n",
       "      <td>31056</td>\n",
       "      <td>1</td>\n",
       "      <td>0</td>\n",
       "      <td>99</td>\n",
       "      <td>5</td>\n",
       "      <td>10</td>\n",
       "      <td>...</td>\n",
       "      <td>0</td>\n",
       "      <td>0</td>\n",
       "      <td>0</td>\n",
       "      <td>0</td>\n",
       "      <td>0</td>\n",
       "      <td>1</td>\n",
       "      <td>0</td>\n",
       "      <td>0</td>\n",
       "      <td>0</td>\n",
       "      <td>0</td>\n",
       "    </tr>\n",
       "    <tr>\n",
       "      <th>2237</th>\n",
       "      <td>22</td>\n",
       "      <td>1976</td>\n",
       "      <td>Graduation</td>\n",
       "      <td>Divorced</td>\n",
       "      <td>46310</td>\n",
       "      <td>1</td>\n",
       "      <td>0</td>\n",
       "      <td>99</td>\n",
       "      <td>185</td>\n",
       "      <td>2</td>\n",
       "      <td>...</td>\n",
       "      <td>0</td>\n",
       "      <td>0</td>\n",
       "      <td>0</td>\n",
       "      <td>0</td>\n",
       "      <td>1</td>\n",
       "      <td>0</td>\n",
       "      <td>0</td>\n",
       "      <td>0</td>\n",
       "      <td>0</td>\n",
       "      <td>0</td>\n",
       "    </tr>\n",
       "    <tr>\n",
       "      <th>2238</th>\n",
       "      <td>528</td>\n",
       "      <td>1978</td>\n",
       "      <td>Graduation</td>\n",
       "      <td>Married</td>\n",
       "      <td>65819</td>\n",
       "      <td>0</td>\n",
       "      <td>0</td>\n",
       "      <td>99</td>\n",
       "      <td>267</td>\n",
       "      <td>38</td>\n",
       "      <td>...</td>\n",
       "      <td>0</td>\n",
       "      <td>0</td>\n",
       "      <td>0</td>\n",
       "      <td>0</td>\n",
       "      <td>0</td>\n",
       "      <td>1</td>\n",
       "      <td>0</td>\n",
       "      <td>0</td>\n",
       "      <td>0</td>\n",
       "      <td>0</td>\n",
       "    </tr>\n",
       "    <tr>\n",
       "      <th>2239</th>\n",
       "      <td>4070</td>\n",
       "      <td>1969</td>\n",
       "      <td>PhD</td>\n",
       "      <td>Married</td>\n",
       "      <td>94871</td>\n",
       "      <td>0</td>\n",
       "      <td>2</td>\n",
       "      <td>99</td>\n",
       "      <td>169</td>\n",
       "      <td>24</td>\n",
       "      <td>...</td>\n",
       "      <td>0</td>\n",
       "      <td>1</td>\n",
       "      <td>0</td>\n",
       "      <td>0</td>\n",
       "      <td>0</td>\n",
       "      <td>1</td>\n",
       "      <td>0</td>\n",
       "      <td>0</td>\n",
       "      <td>0</td>\n",
       "      <td>0</td>\n",
       "    </tr>\n",
       "  </tbody>\n",
       "</table>\n",
       "<p>2240 rows × 34 columns</p>\n",
       "</div>"
      ],
      "text/plain": [
       "         Id  Year_Birth   Education Marital_Status  Income  Kidhome  Teenhome  \\\n",
       "0      1826        1970  Graduation       Divorced   84835        0         0   \n",
       "1         1        1961  Graduation         Single   57091        0         0   \n",
       "2     10476        1958  Graduation        Married   67267        0         1   \n",
       "3      1386        1967  Graduation       Together   32474        1         1   \n",
       "4      5371        1989  Graduation         Single   21474        1         0   \n",
       "...     ...         ...         ...            ...     ...      ...       ...   \n",
       "2235  10142        1976         PhD       Divorced   66476        0         1   \n",
       "2236   5263        1977    2n Cycle        Married   31056        1         0   \n",
       "2237     22        1976  Graduation       Divorced   46310        1         0   \n",
       "2238    528        1978  Graduation        Married   65819        0         0   \n",
       "2239   4070        1969         PhD        Married   94871        0         2   \n",
       "\n",
       "      Recency  MntWines  MntFruits  ...  Master  PhD  Absurd  Alone  Divorced  \\\n",
       "0           0       189        104  ...       0    0       0      0         1   \n",
       "1           0       464          5  ...       0    0       0      0         0   \n",
       "2           0       134         11  ...       0    0       0      0         0   \n",
       "3           0        10          0  ...       0    0       0      0         0   \n",
       "4           0         6         16  ...       0    0       0      0         0   \n",
       "...       ...       ...        ...  ...     ...  ...     ...    ...       ...   \n",
       "2235       99       372         18  ...       0    1       0      0         1   \n",
       "2236       99         5         10  ...       0    0       0      0         0   \n",
       "2237       99       185          2  ...       0    0       0      0         1   \n",
       "2238       99       267         38  ...       0    0       0      0         0   \n",
       "2239       99       169         24  ...       0    1       0      0         0   \n",
       "\n",
       "      Married  Single  Together  Widow  YOLO  \n",
       "0           0       0         0      0     0  \n",
       "1           0       1         0      0     0  \n",
       "2           1       0         0      0     0  \n",
       "3           0       0         1      0     0  \n",
       "4           0       1         0      0     0  \n",
       "...       ...     ...       ...    ...   ...  \n",
       "2235        0       0         0      0     0  \n",
       "2236        1       0         0      0     0  \n",
       "2237        0       0         0      0     0  \n",
       "2238        1       0         0      0     0  \n",
       "2239        1       0         0      0     0  \n",
       "\n",
       "[2240 rows x 34 columns]"
      ]
     },
     "execution_count": 13,
     "metadata": {},
     "output_type": "execute_result"
    }
   ],
   "source": [
    "Education_1 = pd.get_dummies(df.Education)\n",
    "Marital_Status_1 = pd.get_dummies(df.Marital_Status)\n",
    "\n",
    "merged_df = pd.concat([df,Education_1, Marital_Status_1],axis='columns')\n",
    "merged_df"
   ]
  },
  {
   "cell_type": "code",
   "execution_count": 14,
   "id": "de61899d",
   "metadata": {
    "execution": {
     "iopub.execute_input": "2023-02-08T17:18:37.066198Z",
     "iopub.status.busy": "2023-02-08T17:18:37.065724Z",
     "iopub.status.idle": "2023-02-08T17:18:37.090196Z",
     "shell.execute_reply": "2023-02-08T17:18:37.089001Z"
    },
    "papermill": {
     "duration": 0.041482,
     "end_time": "2023-02-08T17:18:37.092618",
     "exception": false,
     "start_time": "2023-02-08T17:18:37.051136",
     "status": "completed"
    },
    "tags": []
   },
   "outputs": [
    {
     "data": {
      "text/html": [
       "<div>\n",
       "<style scoped>\n",
       "    .dataframe tbody tr th:only-of-type {\n",
       "        vertical-align: middle;\n",
       "    }\n",
       "\n",
       "    .dataframe tbody tr th {\n",
       "        vertical-align: top;\n",
       "    }\n",
       "\n",
       "    .dataframe thead th {\n",
       "        text-align: right;\n",
       "    }\n",
       "</style>\n",
       "<table border=\"1\" class=\"dataframe\">\n",
       "  <thead>\n",
       "    <tr style=\"text-align: right;\">\n",
       "      <th></th>\n",
       "      <th>Id</th>\n",
       "      <th>Year_Birth</th>\n",
       "      <th>Income</th>\n",
       "      <th>Kidhome</th>\n",
       "      <th>Teenhome</th>\n",
       "      <th>Recency</th>\n",
       "      <th>MntWines</th>\n",
       "      <th>MntFruits</th>\n",
       "      <th>MntMeatProducts</th>\n",
       "      <th>MntFishProducts</th>\n",
       "      <th>...</th>\n",
       "      <th>Master</th>\n",
       "      <th>PhD</th>\n",
       "      <th>Absurd</th>\n",
       "      <th>Alone</th>\n",
       "      <th>Divorced</th>\n",
       "      <th>Married</th>\n",
       "      <th>Single</th>\n",
       "      <th>Together</th>\n",
       "      <th>Widow</th>\n",
       "      <th>YOLO</th>\n",
       "    </tr>\n",
       "  </thead>\n",
       "  <tbody>\n",
       "    <tr>\n",
       "      <th>0</th>\n",
       "      <td>1826</td>\n",
       "      <td>1970</td>\n",
       "      <td>84835</td>\n",
       "      <td>0</td>\n",
       "      <td>0</td>\n",
       "      <td>0</td>\n",
       "      <td>189</td>\n",
       "      <td>104</td>\n",
       "      <td>379</td>\n",
       "      <td>111</td>\n",
       "      <td>...</td>\n",
       "      <td>0</td>\n",
       "      <td>0</td>\n",
       "      <td>0</td>\n",
       "      <td>0</td>\n",
       "      <td>1</td>\n",
       "      <td>0</td>\n",
       "      <td>0</td>\n",
       "      <td>0</td>\n",
       "      <td>0</td>\n",
       "      <td>0</td>\n",
       "    </tr>\n",
       "    <tr>\n",
       "      <th>1</th>\n",
       "      <td>1</td>\n",
       "      <td>1961</td>\n",
       "      <td>57091</td>\n",
       "      <td>0</td>\n",
       "      <td>0</td>\n",
       "      <td>0</td>\n",
       "      <td>464</td>\n",
       "      <td>5</td>\n",
       "      <td>64</td>\n",
       "      <td>7</td>\n",
       "      <td>...</td>\n",
       "      <td>0</td>\n",
       "      <td>0</td>\n",
       "      <td>0</td>\n",
       "      <td>0</td>\n",
       "      <td>0</td>\n",
       "      <td>0</td>\n",
       "      <td>1</td>\n",
       "      <td>0</td>\n",
       "      <td>0</td>\n",
       "      <td>0</td>\n",
       "    </tr>\n",
       "    <tr>\n",
       "      <th>2</th>\n",
       "      <td>10476</td>\n",
       "      <td>1958</td>\n",
       "      <td>67267</td>\n",
       "      <td>0</td>\n",
       "      <td>1</td>\n",
       "      <td>0</td>\n",
       "      <td>134</td>\n",
       "      <td>11</td>\n",
       "      <td>59</td>\n",
       "      <td>15</td>\n",
       "      <td>...</td>\n",
       "      <td>0</td>\n",
       "      <td>0</td>\n",
       "      <td>0</td>\n",
       "      <td>0</td>\n",
       "      <td>0</td>\n",
       "      <td>1</td>\n",
       "      <td>0</td>\n",
       "      <td>0</td>\n",
       "      <td>0</td>\n",
       "      <td>0</td>\n",
       "    </tr>\n",
       "    <tr>\n",
       "      <th>3</th>\n",
       "      <td>1386</td>\n",
       "      <td>1967</td>\n",
       "      <td>32474</td>\n",
       "      <td>1</td>\n",
       "      <td>1</td>\n",
       "      <td>0</td>\n",
       "      <td>10</td>\n",
       "      <td>0</td>\n",
       "      <td>1</td>\n",
       "      <td>0</td>\n",
       "      <td>...</td>\n",
       "      <td>0</td>\n",
       "      <td>0</td>\n",
       "      <td>0</td>\n",
       "      <td>0</td>\n",
       "      <td>0</td>\n",
       "      <td>0</td>\n",
       "      <td>0</td>\n",
       "      <td>1</td>\n",
       "      <td>0</td>\n",
       "      <td>0</td>\n",
       "    </tr>\n",
       "    <tr>\n",
       "      <th>4</th>\n",
       "      <td>5371</td>\n",
       "      <td>1989</td>\n",
       "      <td>21474</td>\n",
       "      <td>1</td>\n",
       "      <td>0</td>\n",
       "      <td>0</td>\n",
       "      <td>6</td>\n",
       "      <td>16</td>\n",
       "      <td>24</td>\n",
       "      <td>11</td>\n",
       "      <td>...</td>\n",
       "      <td>0</td>\n",
       "      <td>0</td>\n",
       "      <td>0</td>\n",
       "      <td>0</td>\n",
       "      <td>0</td>\n",
       "      <td>0</td>\n",
       "      <td>1</td>\n",
       "      <td>0</td>\n",
       "      <td>0</td>\n",
       "      <td>0</td>\n",
       "    </tr>\n",
       "    <tr>\n",
       "      <th>...</th>\n",
       "      <td>...</td>\n",
       "      <td>...</td>\n",
       "      <td>...</td>\n",
       "      <td>...</td>\n",
       "      <td>...</td>\n",
       "      <td>...</td>\n",
       "      <td>...</td>\n",
       "      <td>...</td>\n",
       "      <td>...</td>\n",
       "      <td>...</td>\n",
       "      <td>...</td>\n",
       "      <td>...</td>\n",
       "      <td>...</td>\n",
       "      <td>...</td>\n",
       "      <td>...</td>\n",
       "      <td>...</td>\n",
       "      <td>...</td>\n",
       "      <td>...</td>\n",
       "      <td>...</td>\n",
       "      <td>...</td>\n",
       "      <td>...</td>\n",
       "    </tr>\n",
       "    <tr>\n",
       "      <th>2235</th>\n",
       "      <td>10142</td>\n",
       "      <td>1976</td>\n",
       "      <td>66476</td>\n",
       "      <td>0</td>\n",
       "      <td>1</td>\n",
       "      <td>99</td>\n",
       "      <td>372</td>\n",
       "      <td>18</td>\n",
       "      <td>126</td>\n",
       "      <td>47</td>\n",
       "      <td>...</td>\n",
       "      <td>0</td>\n",
       "      <td>1</td>\n",
       "      <td>0</td>\n",
       "      <td>0</td>\n",
       "      <td>1</td>\n",
       "      <td>0</td>\n",
       "      <td>0</td>\n",
       "      <td>0</td>\n",
       "      <td>0</td>\n",
       "      <td>0</td>\n",
       "    </tr>\n",
       "    <tr>\n",
       "      <th>2236</th>\n",
       "      <td>5263</td>\n",
       "      <td>1977</td>\n",
       "      <td>31056</td>\n",
       "      <td>1</td>\n",
       "      <td>0</td>\n",
       "      <td>99</td>\n",
       "      <td>5</td>\n",
       "      <td>10</td>\n",
       "      <td>13</td>\n",
       "      <td>3</td>\n",
       "      <td>...</td>\n",
       "      <td>0</td>\n",
       "      <td>0</td>\n",
       "      <td>0</td>\n",
       "      <td>0</td>\n",
       "      <td>0</td>\n",
       "      <td>1</td>\n",
       "      <td>0</td>\n",
       "      <td>0</td>\n",
       "      <td>0</td>\n",
       "      <td>0</td>\n",
       "    </tr>\n",
       "    <tr>\n",
       "      <th>2237</th>\n",
       "      <td>22</td>\n",
       "      <td>1976</td>\n",
       "      <td>46310</td>\n",
       "      <td>1</td>\n",
       "      <td>0</td>\n",
       "      <td>99</td>\n",
       "      <td>185</td>\n",
       "      <td>2</td>\n",
       "      <td>88</td>\n",
       "      <td>15</td>\n",
       "      <td>...</td>\n",
       "      <td>0</td>\n",
       "      <td>0</td>\n",
       "      <td>0</td>\n",
       "      <td>0</td>\n",
       "      <td>1</td>\n",
       "      <td>0</td>\n",
       "      <td>0</td>\n",
       "      <td>0</td>\n",
       "      <td>0</td>\n",
       "      <td>0</td>\n",
       "    </tr>\n",
       "    <tr>\n",
       "      <th>2238</th>\n",
       "      <td>528</td>\n",
       "      <td>1978</td>\n",
       "      <td>65819</td>\n",
       "      <td>0</td>\n",
       "      <td>0</td>\n",
       "      <td>99</td>\n",
       "      <td>267</td>\n",
       "      <td>38</td>\n",
       "      <td>701</td>\n",
       "      <td>149</td>\n",
       "      <td>...</td>\n",
       "      <td>0</td>\n",
       "      <td>0</td>\n",
       "      <td>0</td>\n",
       "      <td>0</td>\n",
       "      <td>0</td>\n",
       "      <td>1</td>\n",
       "      <td>0</td>\n",
       "      <td>0</td>\n",
       "      <td>0</td>\n",
       "      <td>0</td>\n",
       "    </tr>\n",
       "    <tr>\n",
       "      <th>2239</th>\n",
       "      <td>4070</td>\n",
       "      <td>1969</td>\n",
       "      <td>94871</td>\n",
       "      <td>0</td>\n",
       "      <td>2</td>\n",
       "      <td>99</td>\n",
       "      <td>169</td>\n",
       "      <td>24</td>\n",
       "      <td>553</td>\n",
       "      <td>188</td>\n",
       "      <td>...</td>\n",
       "      <td>0</td>\n",
       "      <td>1</td>\n",
       "      <td>0</td>\n",
       "      <td>0</td>\n",
       "      <td>0</td>\n",
       "      <td>1</td>\n",
       "      <td>0</td>\n",
       "      <td>0</td>\n",
       "      <td>0</td>\n",
       "      <td>0</td>\n",
       "    </tr>\n",
       "  </tbody>\n",
       "</table>\n",
       "<p>2240 rows × 32 columns</p>\n",
       "</div>"
      ],
      "text/plain": [
       "         Id  Year_Birth  Income  Kidhome  Teenhome  Recency  MntWines  \\\n",
       "0      1826        1970   84835        0         0        0       189   \n",
       "1         1        1961   57091        0         0        0       464   \n",
       "2     10476        1958   67267        0         1        0       134   \n",
       "3      1386        1967   32474        1         1        0        10   \n",
       "4      5371        1989   21474        1         0        0         6   \n",
       "...     ...         ...     ...      ...       ...      ...       ...   \n",
       "2235  10142        1976   66476        0         1       99       372   \n",
       "2236   5263        1977   31056        1         0       99         5   \n",
       "2237     22        1976   46310        1         0       99       185   \n",
       "2238    528        1978   65819        0         0       99       267   \n",
       "2239   4070        1969   94871        0         2       99       169   \n",
       "\n",
       "      MntFruits  MntMeatProducts  MntFishProducts  ...  Master  PhD  Absurd  \\\n",
       "0           104              379              111  ...       0    0       0   \n",
       "1             5               64                7  ...       0    0       0   \n",
       "2            11               59               15  ...       0    0       0   \n",
       "3             0                1                0  ...       0    0       0   \n",
       "4            16               24               11  ...       0    0       0   \n",
       "...         ...              ...              ...  ...     ...  ...     ...   \n",
       "2235         18              126               47  ...       0    1       0   \n",
       "2236         10               13                3  ...       0    0       0   \n",
       "2237          2               88               15  ...       0    0       0   \n",
       "2238         38              701              149  ...       0    0       0   \n",
       "2239         24              553              188  ...       0    1       0   \n",
       "\n",
       "      Alone  Divorced  Married  Single  Together  Widow  YOLO  \n",
       "0         0         1        0       0         0      0     0  \n",
       "1         0         0        0       1         0      0     0  \n",
       "2         0         0        1       0         0      0     0  \n",
       "3         0         0        0       0         1      0     0  \n",
       "4         0         0        0       1         0      0     0  \n",
       "...     ...       ...      ...     ...       ...    ...   ...  \n",
       "2235      0         1        0       0         0      0     0  \n",
       "2236      0         0        1       0         0      0     0  \n",
       "2237      0         1        0       0         0      0     0  \n",
       "2238      0         0        1       0         0      0     0  \n",
       "2239      0         0        1       0         0      0     0  \n",
       "\n",
       "[2240 rows x 32 columns]"
      ]
     },
     "execution_count": 14,
     "metadata": {},
     "output_type": "execute_result"
    }
   ],
   "source": [
    "final_df = merged_df.drop(['Education', 'Marital_Status'], axis = 1)\n",
    "final_df"
   ]
  },
  {
   "cell_type": "markdown",
   "id": "e2641a22",
   "metadata": {
    "papermill": {
     "duration": 0.013719,
     "end_time": "2023-02-08T17:18:37.119979",
     "exception": false,
     "start_time": "2023-02-08T17:18:37.106260",
     "status": "completed"
    },
    "tags": []
   },
   "source": [
    "**Imbalance Dataset**"
   ]
  },
  {
   "cell_type": "code",
   "execution_count": 15,
   "id": "42725af1",
   "metadata": {
    "execution": {
     "iopub.execute_input": "2023-02-08T17:18:37.149048Z",
     "iopub.status.busy": "2023-02-08T17:18:37.148653Z",
     "iopub.status.idle": "2023-02-08T17:18:37.155610Z",
     "shell.execute_reply": "2023-02-08T17:18:37.154239Z"
    },
    "papermill": {
     "duration": 0.024651,
     "end_time": "2023-02-08T17:18:37.158275",
     "exception": false,
     "start_time": "2023-02-08T17:18:37.133624",
     "status": "completed"
    },
    "tags": []
   },
   "outputs": [
    {
     "data": {
      "text/plain": [
       "(2240, 32)"
      ]
     },
     "execution_count": 15,
     "metadata": {},
     "output_type": "execute_result"
    }
   ],
   "source": [
    "final_df.shape"
   ]
  },
  {
   "cell_type": "code",
   "execution_count": 16,
   "id": "07835b73",
   "metadata": {
    "execution": {
     "iopub.execute_input": "2023-02-08T17:18:37.188069Z",
     "iopub.status.busy": "2023-02-08T17:18:37.187646Z",
     "iopub.status.idle": "2023-02-08T17:18:37.196603Z",
     "shell.execute_reply": "2023-02-08T17:18:37.195380Z"
    },
    "papermill": {
     "duration": 0.026698,
     "end_time": "2023-02-08T17:18:37.199159",
     "exception": false,
     "start_time": "2023-02-08T17:18:37.172461",
     "status": "completed"
    },
    "tags": []
   },
   "outputs": [
    {
     "data": {
      "text/plain": [
       "0    1906\n",
       "1     334\n",
       "Name: Response, dtype: int64"
      ]
     },
     "execution_count": 16,
     "metadata": {},
     "output_type": "execute_result"
    }
   ],
   "source": [
    "final_df['Response'].value_counts()"
   ]
  },
  {
   "cell_type": "code",
   "execution_count": 17,
   "id": "72ab0810",
   "metadata": {
    "execution": {
     "iopub.execute_input": "2023-02-08T17:18:37.230417Z",
     "iopub.status.busy": "2023-02-08T17:18:37.230023Z",
     "iopub.status.idle": "2023-02-08T17:18:37.474075Z",
     "shell.execute_reply": "2023-02-08T17:18:37.472473Z"
    },
    "papermill": {
     "duration": 0.263574,
     "end_time": "2023-02-08T17:18:37.476963",
     "exception": false,
     "start_time": "2023-02-08T17:18:37.213389",
     "status": "completed"
    },
    "tags": []
   },
   "outputs": [
    {
     "name": "stdout",
     "output_type": "stream",
     "text": [
      "Dataset prevalence: 0.15\n"
     ]
    },
    {
     "data": {
      "image/png": "[encoded data removed]",
      "text/plain": [
       "<Figure size 432x288 with 1 Axes>"
      ]
     },
     "metadata": {
      "needs_background": "light"
     },
     "output_type": "display_data"
    }
   ],
   "source": [
    "import matplotlib.pyplot as plt\n",
    "\n",
    "final_df['Response'].value_counts().plot(kind = \"bar\", title = \"Distributions of the responses\")\n",
    "plt.xticks(rotation = 0)\n",
    "\n",
    "print('Dataset prevalence: %2.2f' % (final_df['Response'].value_counts()[1] / sum(final_df['Response'].value_counts())))"
   ]
  },
  {
   "cell_type": "code",
   "execution_count": 18,
   "id": "a0924f81",
   "metadata": {
    "execution": {
     "iopub.execute_input": "2023-02-08T17:18:37.507603Z",
     "iopub.status.busy": "2023-02-08T17:18:37.507144Z",
     "iopub.status.idle": "2023-02-08T17:18:38.330245Z",
     "shell.execute_reply": "2023-02-08T17:18:38.329164Z"
    },
    "papermill": {
     "duration": 0.84212,
     "end_time": "2023-02-08T17:18:38.333308",
     "exception": false,
     "start_time": "2023-02-08T17:18:37.491188",
     "status": "completed"
    },
    "tags": []
   },
   "outputs": [],
   "source": [
    "from imblearn.combine import SMOTETomek\n",
    "from imblearn.under_sampling import NearMiss\n",
    "\n",
    "X = final_df.drop(['Response'], axis = 1)\n",
    "Y = final_df['Response']\n",
    "\n",
    "smk = SMOTETomek(random_state = 42)\n",
    "x, y = smk.fit_resample(X,Y)\n"
   ]
  },
  {
   "cell_type": "code",
   "execution_count": 19,
   "id": "9cae1539",
   "metadata": {
    "execution": {
     "iopub.execute_input": "2023-02-08T17:18:38.363268Z",
     "iopub.status.busy": "2023-02-08T17:18:38.362873Z",
     "iopub.status.idle": "2023-02-08T17:18:38.558765Z",
     "shell.execute_reply": "2023-02-08T17:18:38.557246Z"
    },
    "papermill": {
     "duration": 0.214359,
     "end_time": "2023-02-08T17:18:38.561747",
     "exception": false,
     "start_time": "2023-02-08T17:18:38.347388",
     "status": "completed"
    },
    "tags": []
   },
   "outputs": [
    {
     "name": "stdout",
     "output_type": "stream",
     "text": [
      "Dataset prevalence: 0.50\n"
     ]
    },
    {
     "data": {
      "image/png": "[encoded data removed]",
      "text/plain": [
       "<Figure size 432x288 with 1 Axes>"
      ]
     },
     "metadata": {
      "needs_background": "light"
     },
     "output_type": "display_data"
    }
   ],
   "source": [
    "y.value_counts().plot(kind = \"bar\", title = \"Distributions of the responses\")\n",
    "plt.xticks(rotation = 0)\n",
    "\n",
    "print('Dataset prevalence: %2.2f' % (y.value_counts()[1] / sum(y.value_counts())))"
   ]
  },
  {
   "cell_type": "code",
   "execution_count": 20,
   "id": "d3ca98ae",
   "metadata": {
    "execution": {
     "iopub.execute_input": "2023-02-08T17:18:38.593117Z",
     "iopub.status.busy": "2023-02-08T17:18:38.592711Z",
     "iopub.status.idle": "2023-02-08T17:18:38.601044Z",
     "shell.execute_reply": "2023-02-08T17:18:38.599703Z"
    },
    "papermill": {
     "duration": 0.026741,
     "end_time": "2023-02-08T17:18:38.603944",
     "exception": false,
     "start_time": "2023-02-08T17:18:38.577203",
     "status": "completed"
    },
    "tags": []
   },
   "outputs": [
    {
     "data": {
      "text/plain": [
       "((3544, 31), (3544,))"
      ]
     },
     "execution_count": 20,
     "metadata": {},
     "output_type": "execute_result"
    }
   ],
   "source": [
    "x.shape, y.shape"
   ]
  },
  {
   "cell_type": "code",
   "execution_count": 21,
   "id": "07ee679e",
   "metadata": {
    "execution": {
     "iopub.execute_input": "2023-02-08T17:18:38.634660Z",
     "iopub.status.busy": "2023-02-08T17:18:38.634232Z",
     "iopub.status.idle": "2023-02-08T17:18:38.654728Z",
     "shell.execute_reply": "2023-02-08T17:18:38.652764Z"
    },
    "papermill": {
     "duration": 0.039333,
     "end_time": "2023-02-08T17:18:38.657587",
     "exception": false,
     "start_time": "2023-02-08T17:18:38.618254",
     "status": "completed"
    },
    "tags": []
   },
   "outputs": [
    {
     "name": "stdout",
     "output_type": "stream",
     "text": [
      "<class 'pandas.core.frame.DataFrame'>\n",
      "RangeIndex: 3544 entries, 0 to 3543\n",
      "Data columns (total 31 columns):\n",
      " #   Column               Non-Null Count  Dtype\n",
      "---  ------               --------------  -----\n",
      " 0   Id                   3544 non-null   int64\n",
      " 1   Year_Birth           3544 non-null   int64\n",
      " 2   Income               3544 non-null   int64\n",
      " 3   Kidhome              3544 non-null   int64\n",
      " 4   Teenhome             3544 non-null   int64\n",
      " 5   Recency              3544 non-null   int64\n",
      " 6   MntWines             3544 non-null   int64\n",
      " 7   MntFruits            3544 non-null   int64\n",
      " 8   MntMeatProducts      3544 non-null   int64\n",
      " 9   MntFishProducts      3544 non-null   int64\n",
      " 10  MntSweetProducts     3544 non-null   int64\n",
      " 11  MntGoldProds         3544 non-null   int64\n",
      " 12  NumDealsPurchases    3544 non-null   int64\n",
      " 13  NumWebPurchases      3544 non-null   int64\n",
      " 14  NumCatalogPurchases  3544 non-null   int64\n",
      " 15  NumStorePurchases    3544 non-null   int64\n",
      " 16  NumWebVisitsMonth    3544 non-null   int64\n",
      " 17  Complain             3544 non-null   int64\n",
      " 18  2n Cycle             3544 non-null   uint8\n",
      " 19  Basic                3544 non-null   uint8\n",
      " 20  Graduation           3544 non-null   uint8\n",
      " 21  Master               3544 non-null   uint8\n",
      " 22  PhD                  3544 non-null   uint8\n",
      " 23  Absurd               3544 non-null   uint8\n",
      " 24  Alone                3544 non-null   uint8\n",
      " 25  Divorced             3544 non-null   uint8\n",
      " 26  Married              3544 non-null   uint8\n",
      " 27  Single               3544 non-null   uint8\n",
      " 28  Together             3544 non-null   uint8\n",
      " 29  Widow                3544 non-null   uint8\n",
      " 30  YOLO                 3544 non-null   uint8\n",
      "dtypes: int64(18), uint8(13)\n",
      "memory usage: 543.5 KB\n"
     ]
    }
   ],
   "source": [
    "x.info()"
   ]
  },
  {
   "cell_type": "code",
   "execution_count": 22,
   "id": "c035f633",
   "metadata": {
    "execution": {
     "iopub.execute_input": "2023-02-08T17:18:38.692352Z",
     "iopub.status.busy": "2023-02-08T17:18:38.691615Z",
     "iopub.status.idle": "2023-02-08T17:18:38.726422Z",
     "shell.execute_reply": "2023-02-08T17:18:38.724971Z"
    },
    "papermill": {
     "duration": 0.057899,
     "end_time": "2023-02-08T17:18:38.730032",
     "exception": false,
     "start_time": "2023-02-08T17:18:38.672133",
     "status": "completed"
    },
    "tags": []
   },
   "outputs": [
    {
     "data": {
      "text/html": [
       "<div>\n",
       "<style scoped>\n",
       "    .dataframe tbody tr th:only-of-type {\n",
       "        vertical-align: middle;\n",
       "    }\n",
       "\n",
       "    .dataframe tbody tr th {\n",
       "        vertical-align: top;\n",
       "    }\n",
       "\n",
       "    .dataframe thead th {\n",
       "        text-align: right;\n",
       "    }\n",
       "</style>\n",
       "<table border=\"1\" class=\"dataframe\">\n",
       "  <thead>\n",
       "    <tr style=\"text-align: right;\">\n",
       "      <th></th>\n",
       "      <th>Id</th>\n",
       "      <th>Year_Birth</th>\n",
       "      <th>Income</th>\n",
       "      <th>Kidhome</th>\n",
       "      <th>Teenhome</th>\n",
       "      <th>Recency</th>\n",
       "      <th>MntWines</th>\n",
       "      <th>MntFruits</th>\n",
       "      <th>MntMeatProducts</th>\n",
       "      <th>MntFishProducts</th>\n",
       "      <th>...</th>\n",
       "      <th>PhD</th>\n",
       "      <th>Absurd</th>\n",
       "      <th>Alone</th>\n",
       "      <th>Divorced</th>\n",
       "      <th>Married</th>\n",
       "      <th>Single</th>\n",
       "      <th>Together</th>\n",
       "      <th>Widow</th>\n",
       "      <th>YOLO</th>\n",
       "      <th>Response</th>\n",
       "    </tr>\n",
       "  </thead>\n",
       "  <tbody>\n",
       "    <tr>\n",
       "      <th>0</th>\n",
       "      <td>1826</td>\n",
       "      <td>1970</td>\n",
       "      <td>84835</td>\n",
       "      <td>0</td>\n",
       "      <td>0</td>\n",
       "      <td>0</td>\n",
       "      <td>189</td>\n",
       "      <td>104</td>\n",
       "      <td>379</td>\n",
       "      <td>111</td>\n",
       "      <td>...</td>\n",
       "      <td>0</td>\n",
       "      <td>0</td>\n",
       "      <td>0</td>\n",
       "      <td>1</td>\n",
       "      <td>0</td>\n",
       "      <td>0</td>\n",
       "      <td>0</td>\n",
       "      <td>0</td>\n",
       "      <td>0</td>\n",
       "      <td>1</td>\n",
       "    </tr>\n",
       "    <tr>\n",
       "      <th>1</th>\n",
       "      <td>1</td>\n",
       "      <td>1961</td>\n",
       "      <td>57091</td>\n",
       "      <td>0</td>\n",
       "      <td>0</td>\n",
       "      <td>0</td>\n",
       "      <td>464</td>\n",
       "      <td>5</td>\n",
       "      <td>64</td>\n",
       "      <td>7</td>\n",
       "      <td>...</td>\n",
       "      <td>0</td>\n",
       "      <td>0</td>\n",
       "      <td>0</td>\n",
       "      <td>0</td>\n",
       "      <td>0</td>\n",
       "      <td>1</td>\n",
       "      <td>0</td>\n",
       "      <td>0</td>\n",
       "      <td>0</td>\n",
       "      <td>1</td>\n",
       "    </tr>\n",
       "    <tr>\n",
       "      <th>2</th>\n",
       "      <td>10476</td>\n",
       "      <td>1958</td>\n",
       "      <td>67267</td>\n",
       "      <td>0</td>\n",
       "      <td>1</td>\n",
       "      <td>0</td>\n",
       "      <td>134</td>\n",
       "      <td>11</td>\n",
       "      <td>59</td>\n",
       "      <td>15</td>\n",
       "      <td>...</td>\n",
       "      <td>0</td>\n",
       "      <td>0</td>\n",
       "      <td>0</td>\n",
       "      <td>0</td>\n",
       "      <td>1</td>\n",
       "      <td>0</td>\n",
       "      <td>0</td>\n",
       "      <td>0</td>\n",
       "      <td>0</td>\n",
       "      <td>0</td>\n",
       "    </tr>\n",
       "    <tr>\n",
       "      <th>3</th>\n",
       "      <td>1386</td>\n",
       "      <td>1967</td>\n",
       "      <td>32474</td>\n",
       "      <td>1</td>\n",
       "      <td>1</td>\n",
       "      <td>0</td>\n",
       "      <td>10</td>\n",
       "      <td>0</td>\n",
       "      <td>1</td>\n",
       "      <td>0</td>\n",
       "      <td>...</td>\n",
       "      <td>0</td>\n",
       "      <td>0</td>\n",
       "      <td>0</td>\n",
       "      <td>0</td>\n",
       "      <td>0</td>\n",
       "      <td>0</td>\n",
       "      <td>1</td>\n",
       "      <td>0</td>\n",
       "      <td>0</td>\n",
       "      <td>0</td>\n",
       "    </tr>\n",
       "    <tr>\n",
       "      <th>4</th>\n",
       "      <td>5371</td>\n",
       "      <td>1989</td>\n",
       "      <td>21474</td>\n",
       "      <td>1</td>\n",
       "      <td>0</td>\n",
       "      <td>0</td>\n",
       "      <td>6</td>\n",
       "      <td>16</td>\n",
       "      <td>24</td>\n",
       "      <td>11</td>\n",
       "      <td>...</td>\n",
       "      <td>0</td>\n",
       "      <td>0</td>\n",
       "      <td>0</td>\n",
       "      <td>0</td>\n",
       "      <td>0</td>\n",
       "      <td>1</td>\n",
       "      <td>0</td>\n",
       "      <td>0</td>\n",
       "      <td>0</td>\n",
       "      <td>1</td>\n",
       "    </tr>\n",
       "    <tr>\n",
       "      <th>...</th>\n",
       "      <td>...</td>\n",
       "      <td>...</td>\n",
       "      <td>...</td>\n",
       "      <td>...</td>\n",
       "      <td>...</td>\n",
       "      <td>...</td>\n",
       "      <td>...</td>\n",
       "      <td>...</td>\n",
       "      <td>...</td>\n",
       "      <td>...</td>\n",
       "      <td>...</td>\n",
       "      <td>...</td>\n",
       "      <td>...</td>\n",
       "      <td>...</td>\n",
       "      <td>...</td>\n",
       "      <td>...</td>\n",
       "      <td>...</td>\n",
       "      <td>...</td>\n",
       "      <td>...</td>\n",
       "      <td>...</td>\n",
       "      <td>...</td>\n",
       "    </tr>\n",
       "    <tr>\n",
       "      <th>3539</th>\n",
       "      <td>7260</td>\n",
       "      <td>1967</td>\n",
       "      <td>76037</td>\n",
       "      <td>0</td>\n",
       "      <td>0</td>\n",
       "      <td>12</td>\n",
       "      <td>708</td>\n",
       "      <td>152</td>\n",
       "      <td>292</td>\n",
       "      <td>70</td>\n",
       "      <td>...</td>\n",
       "      <td>0</td>\n",
       "      <td>0</td>\n",
       "      <td>0</td>\n",
       "      <td>1</td>\n",
       "      <td>0</td>\n",
       "      <td>0</td>\n",
       "      <td>0</td>\n",
       "      <td>0</td>\n",
       "      <td>0</td>\n",
       "      <td>1</td>\n",
       "    </tr>\n",
       "    <tr>\n",
       "      <th>3540</th>\n",
       "      <td>2447</td>\n",
       "      <td>1978</td>\n",
       "      <td>45624</td>\n",
       "      <td>1</td>\n",
       "      <td>0</td>\n",
       "      <td>42</td>\n",
       "      <td>45</td>\n",
       "      <td>1</td>\n",
       "      <td>48</td>\n",
       "      <td>5</td>\n",
       "      <td>...</td>\n",
       "      <td>0</td>\n",
       "      <td>0</td>\n",
       "      <td>0</td>\n",
       "      <td>0</td>\n",
       "      <td>0</td>\n",
       "      <td>0</td>\n",
       "      <td>0</td>\n",
       "      <td>0</td>\n",
       "      <td>0</td>\n",
       "      <td>1</td>\n",
       "    </tr>\n",
       "    <tr>\n",
       "      <th>3541</th>\n",
       "      <td>3315</td>\n",
       "      <td>1961</td>\n",
       "      <td>85036</td>\n",
       "      <td>0</td>\n",
       "      <td>0</td>\n",
       "      <td>18</td>\n",
       "      <td>1137</td>\n",
       "      <td>28</td>\n",
       "      <td>358</td>\n",
       "      <td>58</td>\n",
       "      <td>...</td>\n",
       "      <td>1</td>\n",
       "      <td>0</td>\n",
       "      <td>0</td>\n",
       "      <td>0</td>\n",
       "      <td>0</td>\n",
       "      <td>0</td>\n",
       "      <td>0</td>\n",
       "      <td>0</td>\n",
       "      <td>0</td>\n",
       "      <td>1</td>\n",
       "    </tr>\n",
       "    <tr>\n",
       "      <th>3542</th>\n",
       "      <td>9513</td>\n",
       "      <td>1989</td>\n",
       "      <td>73674</td>\n",
       "      <td>0</td>\n",
       "      <td>0</td>\n",
       "      <td>7</td>\n",
       "      <td>565</td>\n",
       "      <td>152</td>\n",
       "      <td>504</td>\n",
       "      <td>216</td>\n",
       "      <td>...</td>\n",
       "      <td>0</td>\n",
       "      <td>0</td>\n",
       "      <td>0</td>\n",
       "      <td>0</td>\n",
       "      <td>0</td>\n",
       "      <td>0</td>\n",
       "      <td>0</td>\n",
       "      <td>0</td>\n",
       "      <td>0</td>\n",
       "      <td>1</td>\n",
       "    </tr>\n",
       "    <tr>\n",
       "      <th>3543</th>\n",
       "      <td>6473</td>\n",
       "      <td>1956</td>\n",
       "      <td>74253</td>\n",
       "      <td>0</td>\n",
       "      <td>0</td>\n",
       "      <td>33</td>\n",
       "      <td>721</td>\n",
       "      <td>112</td>\n",
       "      <td>539</td>\n",
       "      <td>14</td>\n",
       "      <td>...</td>\n",
       "      <td>0</td>\n",
       "      <td>0</td>\n",
       "      <td>0</td>\n",
       "      <td>0</td>\n",
       "      <td>0</td>\n",
       "      <td>0</td>\n",
       "      <td>0</td>\n",
       "      <td>0</td>\n",
       "      <td>0</td>\n",
       "      <td>1</td>\n",
       "    </tr>\n",
       "  </tbody>\n",
       "</table>\n",
       "<p>3544 rows × 32 columns</p>\n",
       "</div>"
      ],
      "text/plain": [
       "         Id  Year_Birth  Income  Kidhome  Teenhome  Recency  MntWines  \\\n",
       "0      1826        1970   84835        0         0        0       189   \n",
       "1         1        1961   57091        0         0        0       464   \n",
       "2     10476        1958   67267        0         1        0       134   \n",
       "3      1386        1967   32474        1         1        0        10   \n",
       "4      5371        1989   21474        1         0        0         6   \n",
       "...     ...         ...     ...      ...       ...      ...       ...   \n",
       "3539   7260        1967   76037        0         0       12       708   \n",
       "3540   2447        1978   45624        1         0       42        45   \n",
       "3541   3315        1961   85036        0         0       18      1137   \n",
       "3542   9513        1989   73674        0         0        7       565   \n",
       "3543   6473        1956   74253        0         0       33       721   \n",
       "\n",
       "      MntFruits  MntMeatProducts  MntFishProducts  ...  PhD  Absurd  Alone  \\\n",
       "0           104              379              111  ...    0       0      0   \n",
       "1             5               64                7  ...    0       0      0   \n",
       "2            11               59               15  ...    0       0      0   \n",
       "3             0                1                0  ...    0       0      0   \n",
       "4            16               24               11  ...    0       0      0   \n",
       "...         ...              ...              ...  ...  ...     ...    ...   \n",
       "3539        152              292               70  ...    0       0      0   \n",
       "3540          1               48                5  ...    0       0      0   \n",
       "3541         28              358               58  ...    1       0      0   \n",
       "3542        152              504              216  ...    0       0      0   \n",
       "3543        112              539               14  ...    0       0      0   \n",
       "\n",
       "      Divorced  Married  Single  Together  Widow  YOLO  Response  \n",
       "0            1        0       0         0      0     0         1  \n",
       "1            0        0       1         0      0     0         1  \n",
       "2            0        1       0         0      0     0         0  \n",
       "3            0        0       0         1      0     0         0  \n",
       "4            0        0       1         0      0     0         1  \n",
       "...        ...      ...     ...       ...    ...   ...       ...  \n",
       "3539         1        0       0         0      0     0         1  \n",
       "3540         0        0       0         0      0     0         1  \n",
       "3541         0        0       0         0      0     0         1  \n",
       "3542         0        0       0         0      0     0         1  \n",
       "3543         0        0       0         0      0     0         1  \n",
       "\n",
       "[3544 rows x 32 columns]"
      ]
     },
     "execution_count": 22,
     "metadata": {},
     "output_type": "execute_result"
    }
   ],
   "source": [
    "d = pd.concat([x, y],axis='columns')\n",
    "d"
   ]
  },
  {
   "cell_type": "markdown",
   "id": "d12ce1f6",
   "metadata": {
    "papermill": {
     "duration": 0.017267,
     "end_time": "2023-02-08T17:18:38.766619",
     "exception": false,
     "start_time": "2023-02-08T17:18:38.749352",
     "status": "completed"
    },
    "tags": []
   },
   "source": [
    "**Finding Outlier**"
   ]
  },
  {
   "cell_type": "code",
   "execution_count": 23,
   "id": "0c720251",
   "metadata": {
    "execution": {
     "iopub.execute_input": "2023-02-08T17:18:38.802182Z",
     "iopub.status.busy": "2023-02-08T17:18:38.801049Z",
     "iopub.status.idle": "2023-02-08T17:18:38.864379Z",
     "shell.execute_reply": "2023-02-08T17:18:38.862757Z"
    },
    "papermill": {
     "duration": 0.08223,
     "end_time": "2023-02-08T17:18:38.866857",
     "exception": false,
     "start_time": "2023-02-08T17:18:38.784627",
     "status": "completed"
    },
    "tags": []
   },
   "outputs": [
    {
     "name": "stdout",
     "output_type": "stream",
     "text": [
      "Outliers in column 'Id': (0)\n",
      "Outliers in column 'Year_Birth': (3)\n",
      "Outliers in column 'Income': (8)\n",
      "Outliers in column 'Kidhome': (45)\n",
      "Outliers in column 'Teenhome': (48)\n",
      "Outliers in column 'Recency': (0)\n",
      "Outliers in column 'MntWines': (0)\n",
      "Outliers in column 'MntFruits': (73)\n",
      "Outliers in column 'MntMeatProducts': (7)\n",
      "Outliers in column 'MntFishProducts': (50)\n",
      "Outliers in column 'MntSweetProducts': (61)\n",
      "Outliers in column 'MntGoldProds': (61)\n",
      "Outliers in column 'NumDealsPurchases': (66)\n",
      "Outliers in column 'NumWebPurchases': (3)\n",
      "Outliers in column 'NumCatalogPurchases': (4)\n",
      "Outliers in column 'NumStorePurchases': (0)\n",
      "Outliers in column 'NumWebVisitsMonth': (9)\n",
      "Outliers in column 'Complain': (19)\n",
      "Outliers in column '2n Cycle': (199)\n",
      "Outliers in column 'Basic': (48)\n",
      "Outliers in column 'Graduation': (0)\n",
      "Outliers in column 'Master': (0)\n",
      "Outliers in column 'PhD': (0)\n",
      "Outliers in column 'Absurd': (2)\n",
      "Outliers in column 'Alone': (3)\n",
      "Outliers in column 'Divorced': (251)\n",
      "Outliers in column 'Married': (0)\n",
      "Outliers in column 'Single': (0)\n",
      "Outliers in column 'Together': (0)\n",
      "Outliers in column 'Widow': (72)\n",
      "Outliers in column 'YOLO': (2)\n",
      "Outliers in column 'Response': (0)\n"
     ]
    }
   ],
   "source": [
    "from scipy.stats import zscore\n",
    "for column in d.columns:\n",
    "    z_scores = np.abs(zscore(d[column]))\n",
    "    outliers = d[column][z_scores > 3]\n",
    "    print(f\"Outliers in column '{column}': ({len(outliers)})\")"
   ]
  },
  {
   "cell_type": "code",
   "execution_count": 24,
   "id": "e2d8e359",
   "metadata": {
    "execution": {
     "iopub.execute_input": "2023-02-08T17:18:38.899383Z",
     "iopub.status.busy": "2023-02-08T17:18:38.898632Z",
     "iopub.status.idle": "2023-02-08T17:18:38.905023Z",
     "shell.execute_reply": "2023-02-08T17:18:38.903904Z"
    },
    "papermill": {
     "duration": 0.025219,
     "end_time": "2023-02-08T17:18:38.907411",
     "exception": false,
     "start_time": "2023-02-08T17:18:38.882192",
     "status": "completed"
    },
    "tags": []
   },
   "outputs": [],
   "source": [
    "# removing outlier\n",
    "from scipy.stats import zscore\n",
    "\n",
    "def remove_outliers_zscore(df):\n",
    "    for column in df.columns:\n",
    "        z_scores = np.abs(zscore(df[column]))\n",
    "        df = df[z_scores <= 3]\n",
    "    return df\n"
   ]
  },
  {
   "cell_type": "code",
   "execution_count": 25,
   "id": "75cd8164",
   "metadata": {
    "execution": {
     "iopub.execute_input": "2023-02-08T17:18:38.940135Z",
     "iopub.status.busy": "2023-02-08T17:18:38.939721Z",
     "iopub.status.idle": "2023-02-08T17:18:39.042068Z",
     "shell.execute_reply": "2023-02-08T17:18:39.040892Z"
    },
    "papermill": {
     "duration": 0.122507,
     "end_time": "2023-02-08T17:18:39.045015",
     "exception": false,
     "start_time": "2023-02-08T17:18:38.922508",
     "status": "completed"
    },
    "tags": []
   },
   "outputs": [
    {
     "data": {
      "text/html": [
       "<div>\n",
       "<style scoped>\n",
       "    .dataframe tbody tr th:only-of-type {\n",
       "        vertical-align: middle;\n",
       "    }\n",
       "\n",
       "    .dataframe tbody tr th {\n",
       "        vertical-align: top;\n",
       "    }\n",
       "\n",
       "    .dataframe thead th {\n",
       "        text-align: right;\n",
       "    }\n",
       "</style>\n",
       "<table border=\"1\" class=\"dataframe\">\n",
       "  <thead>\n",
       "    <tr style=\"text-align: right;\">\n",
       "      <th></th>\n",
       "      <th>Id</th>\n",
       "      <th>Year_Birth</th>\n",
       "      <th>Income</th>\n",
       "      <th>Kidhome</th>\n",
       "      <th>Teenhome</th>\n",
       "      <th>Recency</th>\n",
       "      <th>MntWines</th>\n",
       "      <th>MntFruits</th>\n",
       "      <th>MntMeatProducts</th>\n",
       "      <th>MntFishProducts</th>\n",
       "      <th>...</th>\n",
       "      <th>PhD</th>\n",
       "      <th>Absurd</th>\n",
       "      <th>Alone</th>\n",
       "      <th>Divorced</th>\n",
       "      <th>Married</th>\n",
       "      <th>Single</th>\n",
       "      <th>Together</th>\n",
       "      <th>Widow</th>\n",
       "      <th>YOLO</th>\n",
       "      <th>Response</th>\n",
       "    </tr>\n",
       "  </thead>\n",
       "  <tbody>\n",
       "    <tr>\n",
       "      <th>1</th>\n",
       "      <td>1</td>\n",
       "      <td>1961</td>\n",
       "      <td>57091</td>\n",
       "      <td>0</td>\n",
       "      <td>0</td>\n",
       "      <td>0</td>\n",
       "      <td>464</td>\n",
       "      <td>5</td>\n",
       "      <td>64</td>\n",
       "      <td>7</td>\n",
       "      <td>...</td>\n",
       "      <td>0</td>\n",
       "      <td>0</td>\n",
       "      <td>0</td>\n",
       "      <td>0</td>\n",
       "      <td>0</td>\n",
       "      <td>1</td>\n",
       "      <td>0</td>\n",
       "      <td>0</td>\n",
       "      <td>0</td>\n",
       "      <td>1</td>\n",
       "    </tr>\n",
       "    <tr>\n",
       "      <th>2</th>\n",
       "      <td>10476</td>\n",
       "      <td>1958</td>\n",
       "      <td>67267</td>\n",
       "      <td>0</td>\n",
       "      <td>1</td>\n",
       "      <td>0</td>\n",
       "      <td>134</td>\n",
       "      <td>11</td>\n",
       "      <td>59</td>\n",
       "      <td>15</td>\n",
       "      <td>...</td>\n",
       "      <td>0</td>\n",
       "      <td>0</td>\n",
       "      <td>0</td>\n",
       "      <td>0</td>\n",
       "      <td>1</td>\n",
       "      <td>0</td>\n",
       "      <td>0</td>\n",
       "      <td>0</td>\n",
       "      <td>0</td>\n",
       "      <td>0</td>\n",
       "    </tr>\n",
       "    <tr>\n",
       "      <th>3</th>\n",
       "      <td>1386</td>\n",
       "      <td>1967</td>\n",
       "      <td>32474</td>\n",
       "      <td>1</td>\n",
       "      <td>1</td>\n",
       "      <td>0</td>\n",
       "      <td>10</td>\n",
       "      <td>0</td>\n",
       "      <td>1</td>\n",
       "      <td>0</td>\n",
       "      <td>...</td>\n",
       "      <td>0</td>\n",
       "      <td>0</td>\n",
       "      <td>0</td>\n",
       "      <td>0</td>\n",
       "      <td>0</td>\n",
       "      <td>0</td>\n",
       "      <td>1</td>\n",
       "      <td>0</td>\n",
       "      <td>0</td>\n",
       "      <td>0</td>\n",
       "    </tr>\n",
       "    <tr>\n",
       "      <th>4</th>\n",
       "      <td>5371</td>\n",
       "      <td>1989</td>\n",
       "      <td>21474</td>\n",
       "      <td>1</td>\n",
       "      <td>0</td>\n",
       "      <td>0</td>\n",
       "      <td>6</td>\n",
       "      <td>16</td>\n",
       "      <td>24</td>\n",
       "      <td>11</td>\n",
       "      <td>...</td>\n",
       "      <td>0</td>\n",
       "      <td>0</td>\n",
       "      <td>0</td>\n",
       "      <td>0</td>\n",
       "      <td>0</td>\n",
       "      <td>1</td>\n",
       "      <td>0</td>\n",
       "      <td>0</td>\n",
       "      <td>0</td>\n",
       "      <td>1</td>\n",
       "    </tr>\n",
       "    <tr>\n",
       "      <th>7</th>\n",
       "      <td>4047</td>\n",
       "      <td>1954</td>\n",
       "      <td>65324</td>\n",
       "      <td>0</td>\n",
       "      <td>1</td>\n",
       "      <td>0</td>\n",
       "      <td>384</td>\n",
       "      <td>0</td>\n",
       "      <td>102</td>\n",
       "      <td>21</td>\n",
       "      <td>...</td>\n",
       "      <td>1</td>\n",
       "      <td>0</td>\n",
       "      <td>0</td>\n",
       "      <td>0</td>\n",
       "      <td>1</td>\n",
       "      <td>0</td>\n",
       "      <td>0</td>\n",
       "      <td>0</td>\n",
       "      <td>0</td>\n",
       "      <td>0</td>\n",
       "    </tr>\n",
       "    <tr>\n",
       "      <th>...</th>\n",
       "      <td>...</td>\n",
       "      <td>...</td>\n",
       "      <td>...</td>\n",
       "      <td>...</td>\n",
       "      <td>...</td>\n",
       "      <td>...</td>\n",
       "      <td>...</td>\n",
       "      <td>...</td>\n",
       "      <td>...</td>\n",
       "      <td>...</td>\n",
       "      <td>...</td>\n",
       "      <td>...</td>\n",
       "      <td>...</td>\n",
       "      <td>...</td>\n",
       "      <td>...</td>\n",
       "      <td>...</td>\n",
       "      <td>...</td>\n",
       "      <td>...</td>\n",
       "      <td>...</td>\n",
       "      <td>...</td>\n",
       "      <td>...</td>\n",
       "    </tr>\n",
       "    <tr>\n",
       "      <th>3537</th>\n",
       "      <td>5239</td>\n",
       "      <td>1958</td>\n",
       "      <td>64381</td>\n",
       "      <td>0</td>\n",
       "      <td>0</td>\n",
       "      <td>20</td>\n",
       "      <td>424</td>\n",
       "      <td>49</td>\n",
       "      <td>155</td>\n",
       "      <td>64</td>\n",
       "      <td>...</td>\n",
       "      <td>0</td>\n",
       "      <td>0</td>\n",
       "      <td>0</td>\n",
       "      <td>0</td>\n",
       "      <td>0</td>\n",
       "      <td>0</td>\n",
       "      <td>0</td>\n",
       "      <td>0</td>\n",
       "      <td>0</td>\n",
       "      <td>1</td>\n",
       "    </tr>\n",
       "    <tr>\n",
       "      <th>3538</th>\n",
       "      <td>2491</td>\n",
       "      <td>1970</td>\n",
       "      <td>22716</td>\n",
       "      <td>0</td>\n",
       "      <td>0</td>\n",
       "      <td>25</td>\n",
       "      <td>7</td>\n",
       "      <td>11</td>\n",
       "      <td>16</td>\n",
       "      <td>15</td>\n",
       "      <td>...</td>\n",
       "      <td>0</td>\n",
       "      <td>0</td>\n",
       "      <td>0</td>\n",
       "      <td>0</td>\n",
       "      <td>0</td>\n",
       "      <td>0</td>\n",
       "      <td>0</td>\n",
       "      <td>0</td>\n",
       "      <td>0</td>\n",
       "      <td>1</td>\n",
       "    </tr>\n",
       "    <tr>\n",
       "      <th>3540</th>\n",
       "      <td>2447</td>\n",
       "      <td>1978</td>\n",
       "      <td>45624</td>\n",
       "      <td>1</td>\n",
       "      <td>0</td>\n",
       "      <td>42</td>\n",
       "      <td>45</td>\n",
       "      <td>1</td>\n",
       "      <td>48</td>\n",
       "      <td>5</td>\n",
       "      <td>...</td>\n",
       "      <td>0</td>\n",
       "      <td>0</td>\n",
       "      <td>0</td>\n",
       "      <td>0</td>\n",
       "      <td>0</td>\n",
       "      <td>0</td>\n",
       "      <td>0</td>\n",
       "      <td>0</td>\n",
       "      <td>0</td>\n",
       "      <td>1</td>\n",
       "    </tr>\n",
       "    <tr>\n",
       "      <th>3541</th>\n",
       "      <td>3315</td>\n",
       "      <td>1961</td>\n",
       "      <td>85036</td>\n",
       "      <td>0</td>\n",
       "      <td>0</td>\n",
       "      <td>18</td>\n",
       "      <td>1137</td>\n",
       "      <td>28</td>\n",
       "      <td>358</td>\n",
       "      <td>58</td>\n",
       "      <td>...</td>\n",
       "      <td>1</td>\n",
       "      <td>0</td>\n",
       "      <td>0</td>\n",
       "      <td>0</td>\n",
       "      <td>0</td>\n",
       "      <td>0</td>\n",
       "      <td>0</td>\n",
       "      <td>0</td>\n",
       "      <td>0</td>\n",
       "      <td>1</td>\n",
       "    </tr>\n",
       "    <tr>\n",
       "      <th>3543</th>\n",
       "      <td>6473</td>\n",
       "      <td>1956</td>\n",
       "      <td>74253</td>\n",
       "      <td>0</td>\n",
       "      <td>0</td>\n",
       "      <td>33</td>\n",
       "      <td>721</td>\n",
       "      <td>112</td>\n",
       "      <td>539</td>\n",
       "      <td>14</td>\n",
       "      <td>...</td>\n",
       "      <td>0</td>\n",
       "      <td>0</td>\n",
       "      <td>0</td>\n",
       "      <td>0</td>\n",
       "      <td>0</td>\n",
       "      <td>0</td>\n",
       "      <td>0</td>\n",
       "      <td>0</td>\n",
       "      <td>0</td>\n",
       "      <td>1</td>\n",
       "    </tr>\n",
       "  </tbody>\n",
       "</table>\n",
       "<p>2650 rows × 32 columns</p>\n",
       "</div>"
      ],
      "text/plain": [
       "         Id  Year_Birth  Income  Kidhome  Teenhome  Recency  MntWines  \\\n",
       "1         1        1961   57091        0         0        0       464   \n",
       "2     10476        1958   67267        0         1        0       134   \n",
       "3      1386        1967   32474        1         1        0        10   \n",
       "4      5371        1989   21474        1         0        0         6   \n",
       "7      4047        1954   65324        0         1        0       384   \n",
       "...     ...         ...     ...      ...       ...      ...       ...   \n",
       "3537   5239        1958   64381        0         0       20       424   \n",
       "3538   2491        1970   22716        0         0       25         7   \n",
       "3540   2447        1978   45624        1         0       42        45   \n",
       "3541   3315        1961   85036        0         0       18      1137   \n",
       "3543   6473        1956   74253        0         0       33       721   \n",
       "\n",
       "      MntFruits  MntMeatProducts  MntFishProducts  ...  PhD  Absurd  Alone  \\\n",
       "1             5               64                7  ...    0       0      0   \n",
       "2            11               59               15  ...    0       0      0   \n",
       "3             0                1                0  ...    0       0      0   \n",
       "4            16               24               11  ...    0       0      0   \n",
       "7             0              102               21  ...    1       0      0   \n",
       "...         ...              ...              ...  ...  ...     ...    ...   \n",
       "3537         49              155               64  ...    0       0      0   \n",
       "3538         11               16               15  ...    0       0      0   \n",
       "3540          1               48                5  ...    0       0      0   \n",
       "3541         28              358               58  ...    1       0      0   \n",
       "3543        112              539               14  ...    0       0      0   \n",
       "\n",
       "      Divorced  Married  Single  Together  Widow  YOLO  Response  \n",
       "1            0        0       1         0      0     0         1  \n",
       "2            0        1       0         0      0     0         0  \n",
       "3            0        0       0         1      0     0         0  \n",
       "4            0        0       1         0      0     0         1  \n",
       "7            0        1       0         0      0     0         0  \n",
       "...        ...      ...     ...       ...    ...   ...       ...  \n",
       "3537         0        0       0         0      0     0         1  \n",
       "3538         0        0       0         0      0     0         1  \n",
       "3540         0        0       0         0      0     0         1  \n",
       "3541         0        0       0         0      0     0         1  \n",
       "3543         0        0       0         0      0     0         1  \n",
       "\n",
       "[2650 rows x 32 columns]"
      ]
     },
     "execution_count": 25,
     "metadata": {},
     "output_type": "execute_result"
    }
   ],
   "source": [
    "cleaned_df = remove_outliers_zscore(d)\n",
    "cleaned_df"
   ]
  },
  {
   "cell_type": "code",
   "execution_count": 26,
   "id": "fb952ef7",
   "metadata": {
    "execution": {
     "iopub.execute_input": "2023-02-08T17:18:39.079321Z",
     "iopub.status.busy": "2023-02-08T17:18:39.078365Z",
     "iopub.status.idle": "2023-02-08T17:18:39.141683Z",
     "shell.execute_reply": "2023-02-08T17:18:39.139523Z"
    },
    "papermill": {
     "duration": 0.08377,
     "end_time": "2023-02-08T17:18:39.145041",
     "exception": false,
     "start_time": "2023-02-08T17:18:39.061271",
     "status": "completed"
    },
    "tags": []
   },
   "outputs": [
    {
     "name": "stdout",
     "output_type": "stream",
     "text": [
      "Outliers in column 'Id': (0)\n",
      "Outliers in column 'Year_Birth': (0)\n",
      "Outliers in column 'Income': (0)\n",
      "Outliers in column 'Kidhome': (0)\n",
      "Outliers in column 'Teenhome': (0)\n",
      "Outliers in column 'Recency': (0)\n",
      "Outliers in column 'MntWines': (0)\n",
      "Outliers in column 'MntFruits': (43)\n",
      "Outliers in column 'MntMeatProducts': (0)\n",
      "Outliers in column 'MntFishProducts': (26)\n",
      "Outliers in column 'MntSweetProducts': (29)\n",
      "Outliers in column 'MntGoldProds': (28)\n",
      "Outliers in column 'NumDealsPurchases': (38)\n",
      "Outliers in column 'NumWebPurchases': (0)\n",
      "Outliers in column 'NumCatalogPurchases': (0)\n",
      "Outliers in column 'NumStorePurchases': (0)\n",
      "Outliers in column 'NumWebVisitsMonth': (0)\n",
      "Outliers in column 'Complain': (0)\n",
      "Outliers in column '2n Cycle': (0)\n",
      "Outliers in column 'Basic': (0)\n",
      "Outliers in column 'Graduation': (0)\n",
      "Outliers in column 'Master': (0)\n",
      "Outliers in column 'PhD': (0)\n",
      "Outliers in column 'Absurd': (0)\n",
      "Outliers in column 'Alone': (0)\n",
      "Outliers in column 'Divorced': (0)\n",
      "Outliers in column 'Married': (0)\n",
      "Outliers in column 'Single': (0)\n",
      "Outliers in column 'Together': (0)\n",
      "Outliers in column 'Widow': (0)\n",
      "Outliers in column 'YOLO': (0)\n",
      "Outliers in column 'Response': (0)\n"
     ]
    }
   ],
   "source": [
    "for column in cleaned_df.columns:\n",
    "    z_scores = np.abs(zscore(cleaned_df[column]))\n",
    "    outliers = cleaned_df[column][z_scores > 3]\n",
    "    print(f\"Outliers in column '{column}': ({len(outliers)})\")"
   ]
  },
  {
   "cell_type": "markdown",
   "id": "7698d9b6",
   "metadata": {
    "papermill": {
     "duration": 0.015371,
     "end_time": "2023-02-08T17:18:39.176958",
     "exception": false,
     "start_time": "2023-02-08T17:18:39.161587",
     "status": "completed"
    },
    "tags": []
   },
   "source": [
    "**Plotting boxplot**"
   ]
  },
  {
   "cell_type": "code",
   "execution_count": 27,
   "id": "6f20edfa",
   "metadata": {
    "execution": {
     "iopub.execute_input": "2023-02-08T17:18:39.210165Z",
     "iopub.status.busy": "2023-02-08T17:18:39.209731Z",
     "iopub.status.idle": "2023-02-08T17:18:44.772578Z",
     "shell.execute_reply": "2023-02-08T17:18:44.770954Z"
    },
    "papermill": {
     "duration": 5.582467,
     "end_time": "2023-02-08T17:18:44.775142",
     "exception": false,
     "start_time": "2023-02-08T17:18:39.192675",
     "status": "completed"
    },
    "tags": []
   },
   "outputs": [
    {
     "data": {
      "image/png": "[encoded data removed]",
      "text/plain": [
       "<Figure size 360x360 with 1 Axes>"
      ]
     },
     "metadata": {
      "needs_background": "light"
     },
     "output_type": "display_data"
    },
    {
     "data": {
      "image/png": "[encoded data removed]",
      "text/plain": [
       "<Figure size 360x360 with 1 Axes>"
      ]
     },
     "metadata": {
      "needs_background": "light"
     },
     "output_type": "display_data"
    },
    {
     "data": {
      "image/png": "[encoded data removed]",
      "text/plain": [
       "<Figure size 360x360 with 1 Axes>"
      ]
     },
     "metadata": {
      "needs_background": "light"
     },
     "output_type": "display_data"
    },
    {
     "data": {
      "image/png": "[encoded data removed]",
      "text/plain": [
       "<Figure size 360x360 with 1 Axes>"
      ]
     },
     "metadata": {
      "needs_background": "light"
     },
     "output_type": "display_data"
    },
    {
     "data": {
      "image/png": "[encoded data removed]",
      "text/plain": [
       "<Figure size 360x360 with 1 Axes>"
      ]
     },
     "metadata": {
      "needs_background": "light"
     },
     "output_type": "display_data"
    },
    {
     "data": {
      "image/png": "[encoded data removed]",
      "text/plain": [
       "<Figure size 360x360 with 1 Axes>"
      ]
     },
     "metadata": {
      "needs_background": "light"
     },
     "output_type": "display_data"
    },
    {
     "data": {
      "image/png": "[encoded data removed]",
      "text/plain": [
       "<Figure size 360x360 with 1 Axes>"
      ]
     },
     "metadata": {
      "needs_background": "light"
     },
     "output_type": "display_data"
    },
    {
     "data": {
      "image/png": "[encoded data removed]",
      "text/plain": [
       "<Figure size 360x360 with 1 Axes>"
      ]
     },
     "metadata": {
      "needs_background": "light"
     },
     "output_type": "display_data"
    },
    {
     "data": {
      "image/png": "[encoded data removed]",
      "text/plain": [
       "<Figure size 360x360 with 1 Axes>"
      ]
     },
     "metadata": {
      "needs_background": "light"
     },
     "output_type": "display_data"
    },
    {
     "data": {
      "image/png": "[encoded data removed]",
      "text/plain": [
       "<Figure size 360x360 with 1 Axes>"
      ]
     },
     "metadata": {
      "needs_background": "light"
     },
     "output_type": "display_data"
    },
    {
     "data": {
      "image/png": "[encoded data removed]",
      "text/plain": [
       "<Figure size 360x360 with 1 Axes>"
      ]
     },
     "metadata": {
      "needs_background": "light"
     },
     "output_type": "display_data"
    },
    {
     "data": {
      "image/png": "[encoded data removed]",
      "text/plain": [
       "<Figure size 360x360 with 1 Axes>"
      ]
     },
     "metadata": {
      "needs_background": "light"
     },
     "output_type": "display_data"
    },
    {
     "data": {
      "image/png": "[encoded data removed]",
      "text/plain": [
       "<Figure size 360x360 with 1 Axes>"
      ]
     },
     "metadata": {
      "needs_background": "light"
     },
     "output_type": "display_data"
    },
    {
     "data": {
      "image/png": "[encoded data removed]",
      "text/plain": [
       "<Figure size 360x360 with 1 Axes>"
      ]
     },
     "metadata": {
      "needs_background": "light"
     },
     "output_type": "display_data"
    },
    {
     "data": {
      "image/png": "[encoded data removed]",
      "text/plain": [
       "<Figure size 360x360 with 1 Axes>"
      ]
     },
     "metadata": {
      "needs_background": "light"
     },
     "output_type": "display_data"
    },
    {
     "data": {
      "image/png": "[encoded data removed]",
      "text/plain": [
       "<Figure size 360x360 with 1 Axes>"
      ]
     },
     "metadata": {
      "needs_background": "light"
     },
     "output_type": "display_data"
    },
    {
     "data": {
      "image/png": "[encoded data removed]",
      "text/plain": [
       "<Figure size 360x360 with 1 Axes>"
      ]
     },
     "metadata": {
      "needs_background": "light"
     },
     "output_type": "display_data"
    },
    {
     "data": {
      "image/png": "[encoded data removed]",
      "text/plain": [
       "<Figure size 360x360 with 1 Axes>"
      ]
     },
     "metadata": {
      "needs_background": "light"
     },
     "output_type": "display_data"
    },
    {
     "data": {
      "image/png": "[encoded data removed]",
      "text/plain": [
       "<Figure size 360x360 with 1 Axes>"
      ]
     },
     "metadata": {
      "needs_background": "light"
     },
     "output_type": "display_data"
    },
    {
     "data": {
      "image/png": "[encoded data removed]",
      "text/plain": [
       "<Figure size 360x360 with 1 Axes>"
      ]
     },
     "metadata": {
      "needs_background": "light"
     },
     "output_type": "display_data"
    },
    {
     "data": {
      "image/png": "[encoded data removed]",
      "text/plain": [
       "<Figure size 360x360 with 1 Axes>"
      ]
     },
     "metadata": {
      "needs_background": "light"
     },
     "output_type": "display_data"
    },
    {
     "data": {
      "image/png": "[encoded data removed]",
      "text/plain": [
       "<Figure size 360x360 with 1 Axes>"
      ]
     },
     "metadata": {
      "needs_background": "light"
     },
     "output_type": "display_data"
    },
    {
     "data": {
      "image/png": "[encoded data removed]",
      "text/plain": [
       "<Figure size 360x360 with 1 Axes>"
      ]
     },
     "metadata": {
      "needs_background": "light"
     },
     "output_type": "display_data"
    },
    {
     "data": {
      "image/png": "[encoded data removed]",
      "text/plain": [
       "<Figure size 360x360 with 1 Axes>"
      ]
     },
     "metadata": {
      "needs_background": "light"
     },
     "output_type": "display_data"
    },
    {
     "data": {
      "image/png": "[encoded data removed]",
      "text/plain": [
       "<Figure size 360x360 with 1 Axes>"
      ]
     },
     "metadata": {
      "needs_background": "light"
     },
     "output_type": "display_data"
    },
    {
     "data": {
      "image/png": "[encoded data removed]",
      "text/plain": [
       "<Figure size 360x360 with 1 Axes>"
      ]
     },
     "metadata": {
      "needs_background": "light"
     },
     "output_type": "display_data"
    },
    {
     "data": {
      "image/png": "[encoded data removed]",
      "text/plain": [
       "<Figure size 360x360 with 1 Axes>"
      ]
     },
     "metadata": {
      "needs_background": "light"
     },
     "output_type": "display_data"
    },
    {
     "data": {
      "image/png": "[encoded data removed]",
      "text/plain": [
       "<Figure size 360x360 with 1 Axes>"
      ]
     },
     "metadata": {
      "needs_background": "light"
     },
     "output_type": "display_data"
    },
    {
     "data": {
      "image/png": "[encoded data removed]",
      "text/plain": [
       "<Figure size 360x360 with 1 Axes>"
      ]
     },
     "metadata": {
      "needs_background": "light"
     },
     "output_type": "display_data"
    },
    {
     "data": {
      "image/png": "[encoded data removed]",
      "text/plain": [
       "<Figure size 360x360 with 1 Axes>"
      ]
     },
     "metadata": {
      "needs_background": "light"
     },
     "output_type": "display_data"
    },
    {
     "data": {
      "image/png": "[encoded data removed]",
      "text/plain": [
       "<Figure size 360x360 with 1 Axes>"
      ]
     },
     "metadata": {
      "needs_background": "light"
     },
     "output_type": "display_data"
    },
    {
     "data": {
      "image/png": "[encoded data removed]",
      "text/plain": [
       "<Figure size 360x360 with 1 Axes>"
      ]
     },
     "metadata": {
      "needs_background": "light"
     },
     "output_type": "display_data"
    }
   ],
   "source": [
    "import matplotlib.pyplot as plt\n",
    "\n",
    "def plot_boxplots(df):\n",
    "    for column in df.columns:\n",
    "        fig, ax = plt.subplots(figsize=(5,5))\n",
    "        ax.boxplot(df[column])\n",
    "        ax.set_title(f\"Boxplot of {column}\")\n",
    "        plt.show()\n",
    "\n",
    "plot_boxplots(cleaned_df)"
   ]
  },
  {
   "cell_type": "code",
   "execution_count": 28,
   "id": "5c3d0059",
   "metadata": {
    "execution": {
     "iopub.execute_input": "2023-02-08T17:18:44.822561Z",
     "iopub.status.busy": "2023-02-08T17:18:44.821401Z",
     "iopub.status.idle": "2023-02-08T17:18:48.709362Z",
     "shell.execute_reply": "2023-02-08T17:18:48.707979Z"
    },
    "papermill": {
     "duration": 3.914368,
     "end_time": "2023-02-08T17:18:48.712199",
     "exception": false,
     "start_time": "2023-02-08T17:18:44.797831",
     "status": "completed"
    },
    "tags": []
   },
   "outputs": [
    {
     "data": {
      "image/png": "[encoded data removed]",
      "text/plain": [
       "<Figure size 1800x1080 with 36 Axes>"
      ]
     },
     "metadata": {
      "needs_background": "light"
     },
     "output_type": "display_data"
    }
   ],
   "source": [
    "# Checking data distribution\n",
    "color = '#eab889'\n",
    "data = cleaned_df.copy()\n",
    "data.drop('Response', axis = 1, inplace = True)\n",
    "data.hist(bins=15,figsize=(25,15),color=color)\n",
    "plt.rcParams['font.size'] = 18\n",
    "plt.show()"
   ]
  },
  {
   "cell_type": "markdown",
   "id": "ffd25dd2",
   "metadata": {
    "papermill": {
     "duration": 0.022974,
     "end_time": "2023-02-08T17:18:48.758603",
     "exception": false,
     "start_time": "2023-02-08T17:18:48.735629",
     "status": "completed"
    },
    "tags": []
   },
   "source": [
    "**Heat map of correlation**"
   ]
  },
  {
   "cell_type": "code",
   "execution_count": 29,
   "id": "65331e90",
   "metadata": {
    "execution": {
     "iopub.execute_input": "2023-02-08T17:18:48.807515Z",
     "iopub.status.busy": "2023-02-08T17:18:48.807042Z",
     "iopub.status.idle": "2023-02-08T17:18:50.791570Z",
     "shell.execute_reply": "2023-02-08T17:18:50.790266Z"
    },
    "papermill": {
     "duration": 2.015811,
     "end_time": "2023-02-08T17:18:50.798334",
     "exception": false,
     "start_time": "2023-02-08T17:18:48.782523",
     "status": "completed"
    },
    "tags": []
   },
   "outputs": [
    {
     "data": {
      "image/png": "[encoded data removed]",
      "text/plain": [
       "<Figure size 1440x1440 with 2 Axes>"
      ]
     },
     "metadata": {
      "needs_background": "light"
     },
     "output_type": "display_data"
    }
   ],
   "source": [
    "colormap = plt.cm.RdBu\n",
    "plt.figure(figsize=(20,20))\n",
    "mask = np.zeros_like(cleaned_df.corr())\n",
    "mask[np.triu_indices_from(mask)] = True\n",
    "\n",
    "svm = sns.heatmap(cleaned_df.corr(), mask=mask, linewidths=0.1,vmax=1.0, square=True, cmap=colormap, linecolor='white', annot=True)"
   ]
  },
  {
   "cell_type": "markdown",
   "id": "542ba2b6",
   "metadata": {
    "papermill": {
     "duration": 0.030753,
     "end_time": "2023-02-08T17:18:50.859624",
     "exception": false,
     "start_time": "2023-02-08T17:18:50.828871",
     "status": "completed"
    },
    "tags": []
   },
   "source": [
    "**Splitting data**"
   ]
  },
  {
   "cell_type": "code",
   "execution_count": 30,
   "id": "0aeecda4",
   "metadata": {
    "execution": {
     "iopub.execute_input": "2023-02-08T17:18:50.921167Z",
     "iopub.status.busy": "2023-02-08T17:18:50.920454Z",
     "iopub.status.idle": "2023-02-08T17:18:50.949509Z",
     "shell.execute_reply": "2023-02-08T17:18:50.948336Z"
    },
    "papermill": {
     "duration": 0.062929,
     "end_time": "2023-02-08T17:18:50.952126",
     "exception": false,
     "start_time": "2023-02-08T17:18:50.889197",
     "status": "completed"
    },
    "tags": []
   },
   "outputs": [
    {
     "data": {
      "text/plain": [
       "(         Id  Year_Birth  Income  Kidhome  Teenhome  Recency  MntWines  \\\n",
       " 2504   6093        1967   75166        0         0       18       891   \n",
       " 2332   4581        1983   81291        0         0       18       194   \n",
       " 3029   3026        1966   61330        0         0       42       617   \n",
       " 2054    966        1966   44529        0         1       98       538   \n",
       " 665    7437        1988   27938        1         0       31        13   \n",
       " ...     ...         ...     ...      ...       ...      ...       ...   \n",
       " 2392  10107        1980   42220        0         0       18       206   \n",
       " 3435   6835        1984   21313        1         0        5         5   \n",
       " 848   10790        1985   18169        1         0       40         9   \n",
       " 1901  10678        1959   71232        0         1       91       653   \n",
       " 272    7573        1978   31626        1         0       12        39   \n",
       " \n",
       "       MntFruits  MntMeatProducts  MntFishProducts  ...  Master  PhD  Absurd  \\\n",
       " 2504         62              812               86  ...       0    0       0   \n",
       " 2332         29              432               46  ...       0    0       0   \n",
       " 3029         89              185               52  ...       0    0       0   \n",
       " 2054         13               91               17  ...       0    0       0   \n",
       " 665           0                8                2  ...       0    0       0   \n",
       " ...         ...              ...              ...  ...     ...  ...     ...   \n",
       " 2392         59              213               67  ...       0    0       0   \n",
       " 3435         12               14                0  ...       0    0       0   \n",
       " 848           0                5                0  ...       0    1       0   \n",
       " 1901         17              170               34  ...       0    0       0   \n",
       " 272           1                9                2  ...       0    1       0   \n",
       " \n",
       "       Alone  Divorced  Married  Single  Together  Widow  YOLO  \n",
       " 2504      0         0        0       1         0      0     0  \n",
       " 2332      0         0        0       0         0      0     0  \n",
       " 3029      0         0        0       0         0      0     0  \n",
       " 2054      0         0        1       0         0      0     0  \n",
       " 665       0         0        0       1         0      0     0  \n",
       " ...     ...       ...      ...     ...       ...    ...   ...  \n",
       " 2392      0         0        0       1         0      0     0  \n",
       " 3435      0         0        1       0         0      0     0  \n",
       " 848       0         0        1       0         0      0     0  \n",
       " 1901      0         0        0       0         1      0     0  \n",
       " 272       0         0        0       1         0      0     0  \n",
       " \n",
       " [2120 rows x 31 columns],\n",
       "          Id  Year_Birth  Income  Kidhome  Teenhome  Recency  MntWines  \\\n",
       " 2365   5275        1954   64060        0         0       18       271   \n",
       " 2393  10512        1976   93414        0         0       33       706   \n",
       " 429    8652        1946   37760        0         0       20        84   \n",
       " 2886   2792        1981   72153        0         0       56      1009   \n",
       " 290    1650        1960   81843        0         0       13       779   \n",
       " ...     ...         ...     ...      ...       ...      ...       ...   \n",
       " 3540   2447        1978   45624        1         0       42        45   \n",
       " 3309   9016        1984   36321        1         0       14        68   \n",
       " 923    2181        1970   70617        0         0       45       353   \n",
       " 1354   9014        1975   37085        1         1       65        39   \n",
       " 1527    143        1970   61209        0         0       73       466   \n",
       " \n",
       "       MntFruits  MntMeatProducts  MntFishProducts  ...  Master  PhD  Absurd  \\\n",
       " 2365         48              370               51  ...       0    0       0   \n",
       " 2393         22              918               70  ...       0    0       0   \n",
       " 429           5               38              150  ...       0    0       0   \n",
       " 2886         44              558              120  ...       0    0       0   \n",
       " 290          86              537               34  ...       1    0       0   \n",
       " ...         ...              ...              ...  ...     ...  ...     ...   \n",
       " 3540          1               48                5  ...       0    0       0   \n",
       " 3309          4               79               15  ...       0    0       0   \n",
       " 923          61              753               40  ...       0    0       0   \n",
       " 1354          1               16                2  ...       0    0       0   \n",
       " 1527          0              224              119  ...       0    0       0   \n",
       " \n",
       "       Alone  Divorced  Married  Single  Together  Widow  YOLO  \n",
       " 2365      0         0        0       0         0      0     0  \n",
       " 2393      0         0        0       0         0      0     0  \n",
       " 429       0         0        0       0         1      0     0  \n",
       " 2886      0         0        0       1         0      0     0  \n",
       " 290       0         0        1       0         0      0     0  \n",
       " ...     ...       ...      ...     ...       ...    ...   ...  \n",
       " 3540      0         0        0       0         0      0     0  \n",
       " 3309      0         0        0       0         0      0     0  \n",
       " 923       0         0        1       0         0      0     0  \n",
       " 1354      0         0        1       0         0      0     0  \n",
       " 1527      0         0        0       1         0      0     0  \n",
       " \n",
       " [530 rows x 31 columns],\n",
       " 2504    1\n",
       " 2332    1\n",
       " 3029    1\n",
       " 2054    0\n",
       " 665     0\n",
       "        ..\n",
       " 2392    1\n",
       " 3435    1\n",
       " 848     0\n",
       " 1901    0\n",
       " 272     1\n",
       " Name: Response, Length: 2120, dtype: int64,\n",
       " 2365    1\n",
       " 2393    1\n",
       " 429     0\n",
       " 2886    1\n",
       " 290     0\n",
       "        ..\n",
       " 3540    1\n",
       " 3309    1\n",
       " 923     0\n",
       " 1354    0\n",
       " 1527    0\n",
       " Name: Response, Length: 530, dtype: int64)"
      ]
     },
     "execution_count": 30,
     "metadata": {},
     "output_type": "execute_result"
    }
   ],
   "source": [
    "from sklearn.preprocessing import StandardScaler, MinMaxScaler, RobustScaler\n",
    "from sklearn.pipeline import Pipeline\n",
    "from sklearn.model_selection import train_test_split\n",
    "\n",
    "#classification metrics\n",
    "from sklearn.metrics import accuracy_score, recall_score, precision_score, roc_auc_score, f1_score\n",
    "\n",
    "x = cleaned_df.drop(['Response'], axis = 1)\n",
    "y = cleaned_df['Response']\n",
    "x_train, x_test, y_train, y_test = train_test_split(x,y,test_size=0.2, shuffle=True, random_state=7)\n",
    "\n",
    "x_train, x_test, y_train, y_test "
   ]
  },
  {
   "cell_type": "code",
   "execution_count": 31,
   "id": "c135facd",
   "metadata": {
    "execution": {
     "iopub.execute_input": "2023-02-08T17:18:51.013345Z",
     "iopub.status.busy": "2023-02-08T17:18:51.012958Z",
     "iopub.status.idle": "2023-02-08T17:18:51.027932Z",
     "shell.execute_reply": "2023-02-08T17:18:51.026774Z"
    },
    "papermill": {
     "duration": 0.048792,
     "end_time": "2023-02-08T17:18:51.030656",
     "exception": false,
     "start_time": "2023-02-08T17:18:50.981864",
     "status": "completed"
    },
    "tags": []
   },
   "outputs": [],
   "source": [
    "sc_X = StandardScaler()\n",
    "sc_y = StandardScaler()\n",
    "x_train = sc_X.fit_transform(x_train)\n",
    "x_test = sc_y.fit_transform(x_test)"
   ]
  },
  {
   "cell_type": "markdown",
   "id": "6bcd9128",
   "metadata": {
    "papermill": {
     "duration": 0.028983,
     "end_time": "2023-02-08T17:18:51.089664",
     "exception": false,
     "start_time": "2023-02-08T17:18:51.060681",
     "status": "completed"
    },
    "tags": []
   },
   "source": [
    "**Model training**"
   ]
  },
  {
   "cell_type": "code",
   "execution_count": 32,
   "id": "49fd195a",
   "metadata": {
    "execution": {
     "iopub.execute_input": "2023-02-08T17:18:51.152052Z",
     "iopub.status.busy": "2023-02-08T17:18:51.151597Z",
     "iopub.status.idle": "2023-02-08T17:18:51.156654Z",
     "shell.execute_reply": "2023-02-08T17:18:51.155730Z"
    },
    "papermill": {
     "duration": 0.039844,
     "end_time": "2023-02-08T17:18:51.159194",
     "exception": false,
     "start_time": "2023-02-08T17:18:51.119350",
     "status": "completed"
    },
    "tags": []
   },
   "outputs": [],
   "source": [
    "from sklearn.svm import SVC"
   ]
  },
  {
   "cell_type": "code",
   "execution_count": 33,
   "id": "4857bc8f",
   "metadata": {
    "execution": {
     "iopub.execute_input": "2023-02-08T17:18:51.221062Z",
     "iopub.status.busy": "2023-02-08T17:18:51.220659Z",
     "iopub.status.idle": "2023-02-08T17:18:51.370466Z",
     "shell.execute_reply": "2023-02-08T17:18:51.369273Z"
    },
    "papermill": {
     "duration": 0.183249,
     "end_time": "2023-02-08T17:18:51.373299",
     "exception": false,
     "start_time": "2023-02-08T17:18:51.190050",
     "status": "completed"
    },
    "tags": []
   },
   "outputs": [],
   "source": [
    "classifier = SVC(kernel = 'rbf')\n",
    "classifier.fit(x_train, y_train)\n",
    "y_pred = classifier.predict(x_test)"
   ]
  },
  {
   "cell_type": "code",
   "execution_count": 34,
   "id": "15d01efe",
   "metadata": {
    "execution": {
     "iopub.execute_input": "2023-02-08T17:18:51.436298Z",
     "iopub.status.busy": "2023-02-08T17:18:51.435861Z",
     "iopub.status.idle": "2023-02-08T17:18:51.451318Z",
     "shell.execute_reply": "2023-02-08T17:18:51.450267Z"
    },
    "papermill": {
     "duration": 0.049812,
     "end_time": "2023-02-08T17:18:51.453547",
     "exception": false,
     "start_time": "2023-02-08T17:18:51.403735",
     "status": "completed"
    },
    "tags": []
   },
   "outputs": [
    {
     "data": {
      "text/html": [
       "<div>\n",
       "<style scoped>\n",
       "    .dataframe tbody tr th:only-of-type {\n",
       "        vertical-align: middle;\n",
       "    }\n",
       "\n",
       "    .dataframe tbody tr th {\n",
       "        vertical-align: top;\n",
       "    }\n",
       "\n",
       "    .dataframe thead th {\n",
       "        text-align: right;\n",
       "    }\n",
       "</style>\n",
       "<table border=\"1\" class=\"dataframe\">\n",
       "  <thead>\n",
       "    <tr style=\"text-align: right;\">\n",
       "      <th></th>\n",
       "      <th>y_test</th>\n",
       "      <th>y_pred</th>\n",
       "    </tr>\n",
       "  </thead>\n",
       "  <tbody>\n",
       "    <tr>\n",
       "      <th>0</th>\n",
       "      <td>1</td>\n",
       "      <td>1</td>\n",
       "    </tr>\n",
       "    <tr>\n",
       "      <th>1</th>\n",
       "      <td>1</td>\n",
       "      <td>1</td>\n",
       "    </tr>\n",
       "    <tr>\n",
       "      <th>2</th>\n",
       "      <td>0</td>\n",
       "      <td>0</td>\n",
       "    </tr>\n",
       "    <tr>\n",
       "      <th>3</th>\n",
       "      <td>1</td>\n",
       "      <td>1</td>\n",
       "    </tr>\n",
       "    <tr>\n",
       "      <th>4</th>\n",
       "      <td>0</td>\n",
       "      <td>1</td>\n",
       "    </tr>\n",
       "    <tr>\n",
       "      <th>...</th>\n",
       "      <td>...</td>\n",
       "      <td>...</td>\n",
       "    </tr>\n",
       "    <tr>\n",
       "      <th>525</th>\n",
       "      <td>1</td>\n",
       "      <td>1</td>\n",
       "    </tr>\n",
       "    <tr>\n",
       "      <th>526</th>\n",
       "      <td>1</td>\n",
       "      <td>1</td>\n",
       "    </tr>\n",
       "    <tr>\n",
       "      <th>527</th>\n",
       "      <td>0</td>\n",
       "      <td>0</td>\n",
       "    </tr>\n",
       "    <tr>\n",
       "      <th>528</th>\n",
       "      <td>0</td>\n",
       "      <td>0</td>\n",
       "    </tr>\n",
       "    <tr>\n",
       "      <th>529</th>\n",
       "      <td>0</td>\n",
       "      <td>0</td>\n",
       "    </tr>\n",
       "  </tbody>\n",
       "</table>\n",
       "<p>530 rows × 2 columns</p>\n",
       "</div>"
      ],
      "text/plain": [
       "     y_test  y_pred\n",
       "0         1       1\n",
       "1         1       1\n",
       "2         0       0\n",
       "3         1       1\n",
       "4         0       1\n",
       "..      ...     ...\n",
       "525       1       1\n",
       "526       1       1\n",
       "527       0       0\n",
       "528       0       0\n",
       "529       0       0\n",
       "\n",
       "[530 rows x 2 columns]"
      ]
     },
     "execution_count": 34,
     "metadata": {},
     "output_type": "execute_result"
    }
   ],
   "source": [
    "combine = zip(y_test,y_pred)\n",
    "pd.DataFrame(combine,columns=['y_test','y_pred'])"
   ]
  },
  {
   "cell_type": "markdown",
   "id": "d13ecdf1",
   "metadata": {
    "papermill": {
     "duration": 0.030552,
     "end_time": "2023-02-08T17:18:51.514064",
     "exception": false,
     "start_time": "2023-02-08T17:18:51.483512",
     "status": "completed"
    },
    "tags": []
   },
   "source": [
    "**Confusion matrix**"
   ]
  },
  {
   "cell_type": "code",
   "execution_count": 35,
   "id": "58e8aae6",
   "metadata": {
    "execution": {
     "iopub.execute_input": "2023-02-08T17:18:51.576543Z",
     "iopub.status.busy": "2023-02-08T17:18:51.576088Z",
     "iopub.status.idle": "2023-02-08T17:18:51.589258Z",
     "shell.execute_reply": "2023-02-08T17:18:51.587835Z"
    },
    "papermill": {
     "duration": 0.047574,
     "end_time": "2023-02-08T17:18:51.591767",
     "exception": false,
     "start_time": "2023-02-08T17:18:51.544193",
     "status": "completed"
    },
    "tags": []
   },
   "outputs": [
    {
     "name": "stdout",
     "output_type": "stream",
     "text": [
      "   False Positives  False Negatives  True Positives  True Negatives\n",
      "0                5               36             257             232\n"
     ]
    }
   ],
   "source": [
    "import pandas as pd\n",
    "from sklearn.metrics import confusion_matrix\n",
    "\n",
    "\n",
    "conf_mat = confusion_matrix(y_test, y_pred)\n",
    "\n",
    "TN, FP, FN, TP = conf_mat.ravel()\n",
    "\n",
    "results_df = pd.DataFrame({\"False Positives\": [FP],\n",
    "                           \"False Negatives\": [FN],\n",
    "                           \"True Positives\": [TP],\n",
    "                           \"True Negatives\": [TN]})\n",
    "\n",
    "print(results_df)\n"
   ]
  },
  {
   "cell_type": "markdown",
   "id": "16120a57",
   "metadata": {
    "papermill": {
     "duration": 0.031096,
     "end_time": "2023-02-08T17:18:51.653557",
     "exception": false,
     "start_time": "2023-02-08T17:18:51.622461",
     "status": "completed"
    },
    "tags": []
   },
   "source": [
    "**Accuracy**"
   ]
  },
  {
   "cell_type": "code",
   "execution_count": 36,
   "id": "26d52b5d",
   "metadata": {
    "execution": {
     "iopub.execute_input": "2023-02-08T17:18:51.717185Z",
     "iopub.status.busy": "2023-02-08T17:18:51.716798Z",
     "iopub.status.idle": "2023-02-08T17:18:51.735482Z",
     "shell.execute_reply": "2023-02-08T17:18:51.734245Z"
    },
    "papermill": {
     "duration": 0.05389,
     "end_time": "2023-02-08T17:18:51.738010",
     "exception": false,
     "start_time": "2023-02-08T17:18:51.684120",
     "status": "completed"
    },
    "tags": []
   },
   "outputs": [
    {
     "data": {
      "text/html": [
       "<div>\n",
       "<style scoped>\n",
       "    .dataframe tbody tr th:only-of-type {\n",
       "        vertical-align: middle;\n",
       "    }\n",
       "\n",
       "    .dataframe tbody tr th {\n",
       "        vertical-align: top;\n",
       "    }\n",
       "\n",
       "    .dataframe thead th {\n",
       "        text-align: right;\n",
       "    }\n",
       "</style>\n",
       "<table border=\"1\" class=\"dataframe\">\n",
       "  <thead>\n",
       "    <tr style=\"text-align: right;\">\n",
       "      <th></th>\n",
       "      <th>0</th>\n",
       "      <th>1</th>\n",
       "    </tr>\n",
       "  </thead>\n",
       "  <tbody>\n",
       "    <tr>\n",
       "      <th>0</th>\n",
       "      <td>Accuracy</td>\n",
       "      <td>0.922642</td>\n",
       "    </tr>\n",
       "    <tr>\n",
       "      <th>1</th>\n",
       "      <td>F1-score</td>\n",
       "      <td>0.926126</td>\n",
       "    </tr>\n",
       "    <tr>\n",
       "      <th>2</th>\n",
       "      <td>AUC</td>\n",
       "      <td>0.928018</td>\n",
       "    </tr>\n",
       "    <tr>\n",
       "      <th>3</th>\n",
       "      <td>Recall</td>\n",
       "      <td>0.877133</td>\n",
       "    </tr>\n",
       "    <tr>\n",
       "      <th>4</th>\n",
       "      <td>Precision</td>\n",
       "      <td>0.980916</td>\n",
       "    </tr>\n",
       "  </tbody>\n",
       "</table>\n",
       "</div>"
      ],
      "text/plain": [
       "           0         1\n",
       "0   Accuracy  0.922642\n",
       "1   F1-score  0.926126\n",
       "2        AUC  0.928018\n",
       "3     Recall  0.877133\n",
       "4  Precision  0.980916"
      ]
     },
     "execution_count": 36,
     "metadata": {},
     "output_type": "execute_result"
    }
   ],
   "source": [
    "accuracy = accuracy_score(y_test,y_pred)\n",
    "f1 = f1_score(y_test,y_pred, average='binary') \n",
    "auc = roc_auc_score(y_test,y_pred)\n",
    "recall = recall_score(y_test,y_pred)\n",
    "precision = precision_score(y_test,y_pred)\n",
    "\n",
    "value = [accuracy, f1, auc, recall, precision]\n",
    "index = ['Accuracy','F1-score','AUC','Recall','Precision']\n",
    "pd.DataFrame(zip( index, value))"
   ]
  },
  {
   "cell_type": "markdown",
   "id": "6faba304",
   "metadata": {
    "papermill": {
     "duration": 0.029943,
     "end_time": "2023-02-08T17:18:51.798357",
     "exception": false,
     "start_time": "2023-02-08T17:18:51.768414",
     "status": "completed"
    },
    "tags": []
   },
   "source": []
  }
 ],
 "metadata": {
  "kernelspec": {
   "display_name": "Python 3",
   "language": "python",
   "name": "python3"
  },
  "language_info": {
   "codemirror_mode": {
    "name": "ipython",
    "version": 3
   },
   "file_extension": ".py",
   "mimetype": "text/x-python",
   "name": "python",
   "nbconvert_exporter": "python",
   "pygments_lexer": "ipython3",
   "version": "3.7.12"
  },
  "papermill": {
   "default_parameters": {},
   "duration": 26.271976,
   "end_time": "2023-02-08T17:18:52.750768",
   "environment_variables": {},
   "exception": null,
   "input_path": "__notebook__.ipynb",
   "output_path": "__notebook__.ipynb",
   "parameters": {},
   "start_time": "2023-02-08T17:18:26.478792",
   "version": "2.3.4"
  }
 },
 "nbformat": 4,
 "nbformat_minor": 5
}
